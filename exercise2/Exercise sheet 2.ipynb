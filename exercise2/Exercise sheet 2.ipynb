{
 "cells": [
  {
   "cell_type": "markdown",
   "id": "7bf58660",
   "metadata": {},
   "source": [
    "# Exercise sheet 2\n",
    "**Hello everyone!**\n",
    "\n",
    "This is the first graded exercise sheet. <br>\n",
    "**Points: 15 (+1)**\n",
    "\n",
    "Topics of this exercise sheet are:\n",
    "* Work with Jupyter\n",
    "* See autograding\n",
    "* Lecture 2: Tidy data, pandas\n",
    "\n",
    "Please let us know if you have questions or problems! <br>\n",
    "Contact us during the exercise session, on [ADAM](https://adam.unibas.ch/goto_adam_crs_1266890.html), [Piazza](https://piazza.com/class/kzy15kp8s5t6ku), or [via email](https://sada.dmi.unibas.ch/en/teaching/pids22).\n",
    "\n",
    "Please submit this exercise sheet on **ADAM**.\n",
    "Naming conventions:\n",
    "* Name of notebook: \"Exercise sheet 2.ipynb\"\n",
    "* Please put it in a folder structure like this: \"your_unibas_short_name/Exercise2/Exercise sheet 2.ipynb\"\n",
    "* Your Unibas short name should have the first 6 letters of your last name and then 4 numbers.\n",
    "* Then zip this folder and upload it on ADAM.\n",
    "\n",
    "**Handout date**: 2022/03/14 <br>\n",
    "**Submission date**: 2022/03/21 <br>\n",
    "**Discussion date**: 2022/03/22"
   ]
  },
  {
   "cell_type": "markdown",
   "id": "99709f63",
   "metadata": {},
   "source": [
    "## 1 - Tidy data (9 points)\n",
    "\n",
    "### 1a (2 points)\n",
    "We will use data published by the [World Bank](https://data.worldbank.org/indicator/SP.POP.TOTL) about population in countries."
   ]
  },
  {
   "cell_type": "code",
   "execution_count": null,
   "id": "9ce1ea88",
   "metadata": {},
   "outputs": [],
   "source": [
    "import pandas as pd\n",
    "\n",
    "population = pd.read_csv(\"population_data.csv\", skiprows=3).dropna(how='all', axis=1)\n",
    "population.head()"
   ]
  },
  {
   "cell_type": "markdown",
   "id": "009b4f7a",
   "metadata": {},
   "source": [
    "Manipulate the dataframe \"population\" to be tidy. Currently, column headers are values, not variable names.\n",
    "\n",
    "* Make a new dataframe \"population_melted\" that contains the same data as \"population\", but\n",
    "    * it has a new column \"Year\" containing the year of the observation\n",
    "    * it has a new column \"Population\" containing the number of inhabitants of the country in this year\n",
    "    * otherwise, it has exactly the same columns and data as \"population\""
   ]
  },
  {
   "cell_type": "code",
   "execution_count": null,
   "id": "72f596d6",
   "metadata": {
    "deletable": false,
    "nbgrader": {
     "cell_type": "code",
     "checksum": "9f13a9250aa60b6dcf62baa45db3e417",
     "grade": false,
     "grade_id": "cell-8425c8e5ab3ddda3",
     "locked": false,
     "schema_version": 3,
     "solution": true,
     "task": false
    }
   },
   "outputs": [],
   "source": [
    "# population_melted = pd.melt(...)\n",
    "\n",
    "# YOUR CODE HERE\n",
    "raise NotImplementedError()"
   ]
  },
  {
   "cell_type": "code",
   "execution_count": null,
   "id": "4b7938cd",
   "metadata": {
    "deletable": false,
    "editable": false,
    "nbgrader": {
     "cell_type": "code",
     "checksum": "fe20d3c09df05eb5c8d00dad5fdb976d",
     "grade": true,
     "grade_id": "cell-be863dc19784bb02",
     "locked": true,
     "points": 2,
     "schema_version": 3,
     "solution": false,
     "task": false
    }
   },
   "outputs": [],
   "source": [
    "from nose.tools import assert_is_instance, assert_equal, assert_almost_equal, assert_true\n",
    "\n",
    "assert_is_instance(population_melted, pd.DataFrame)\n",
    "assert_equal(len(population_melted), 16226)\n",
    "assert_equal(population_melted.loc[(population_melted[\"Country Name\"] == \"Switzerland\") & (population_melted[\"Year\"] == \"1960\")][\"Population\"].values[0], 5327827.0)"
   ]
  },
  {
   "cell_type": "markdown",
   "id": "f4f52eeb",
   "metadata": {},
   "source": [
    "### 1b (3 points)\n",
    "We will use data about the average height in countries around the world. It comes from [Kaggle](https://www.kaggle.com/majyhain/height-of-male-and-female-by-country-2022)."
   ]
  },
  {
   "cell_type": "code",
   "execution_count": null,
   "id": "9083b5ec",
   "metadata": {},
   "outputs": [],
   "source": [
    "height = pd.read_csv(\"height_2022.csv\")\n",
    "height = height.drop([\"Male Height in Ft\", \"Female Height in Ft\"], axis=1)\n",
    "height.head()"
   ]
  },
  {
   "cell_type": "markdown",
   "id": "11745767",
   "metadata": {},
   "source": [
    "Manipulate the dataframe \"height\" to be tidy. Currently, multiple variables are stored in one column.\n",
    "\n",
    "* Make a new dataframe \"height_tidy\" that contains the same data as \"height\", but\n",
    "    * it has a new column \"Sex\" containing a single character \"M\" or \"F\" for \"male\"/\"female\"\n",
    "    * it has a new column \"Height in Cm\" containing data about the height in cm"
   ]
  },
  {
   "cell_type": "code",
   "execution_count": null,
   "id": "5970a8e7",
   "metadata": {
    "deletable": false,
    "nbgrader": {
     "cell_type": "code",
     "checksum": "37eb2f955d5343ad3e7c2c4dc0f0762e",
     "grade": false,
     "grade_id": "cell-b774d9d556851043",
     "locked": false,
     "schema_version": 3,
     "solution": true,
     "task": false
    }
   },
   "outputs": [],
   "source": [
    "# height_tidy = ...\n",
    "\n",
    "# YOUR CODE HERE\n",
    "raise NotImplementedError()"
   ]
  },
  {
   "cell_type": "code",
   "execution_count": null,
   "id": "a6461f5a",
   "metadata": {
    "deletable": false,
    "editable": false,
    "nbgrader": {
     "cell_type": "code",
     "checksum": "9179f7e4818267f86f0dde85f5b5f5a5",
     "grade": true,
     "grade_id": "cell-1cdb32420dd97622",
     "locked": true,
     "points": 3,
     "schema_version": 3,
     "solution": false,
     "task": false
    }
   },
   "outputs": [],
   "source": [
    "assert_is_instance(height_tidy, pd.DataFrame)\n",
    "assert_equal(len(height_tidy), 398)\n",
    "assert_equal(len(height_tidy[height_tidy[\"Sex\"] == \"M\"]), len(height_tidy[height_tidy[\"Sex\"] == \"F\"]))\n",
    "assert_equal(height_tidy.loc[(height_tidy[\"Country Name\"] == \"Switzerland\") & (height_tidy[\"Sex\"] == \"F\")][\"Height in Cm\"].values[0], 164.33)\n",
    "assert_equal(height_tidy.loc[(height_tidy[\"Country Name\"] == \"Switzerland\") & (height_tidy[\"Sex\"] == \"M\")][\"Height in Cm\"].values[0], 178.73)"
   ]
  },
  {
   "cell_type": "markdown",
   "id": "25960220",
   "metadata": {},
   "source": [
    "### 1c (4 points)\n",
    "We will work with data about billboards in the 2000s (as in the lecture)."
   ]
  },
  {
   "cell_type": "code",
   "execution_count": null,
   "id": "c909af90",
   "metadata": {},
   "outputs": [],
   "source": [
    "billboard = pd.read_csv(\"billboard_intermediate.csv\")\n",
    "billboard.head()"
   ]
  },
  {
   "cell_type": "markdown",
   "id": "1b8e5af2",
   "metadata": {},
   "source": [
    "Manipulate the dataframe \"billboard\" into two dataframes that each store one observational unit.\n",
    "\n",
    "* Make a new dataframe \"billboard_songs\" that contains information about the songs\n",
    "    * It should contain these columns from the \"billboard\" dataframe: \"artist.inverted\", \"track\", \"time\", \"genre\"\n",
    "* Make a new dataframe \"billboard_charts\" that contains information about the chart performance of the songs\n",
    "    * It should contain these columns from the \"billboard\" dataframe: \"date\", \"date.peaked\", \"week\", \"rank\"\n",
    "* Additionally, both dataframes should contain a column named \"track_id\" that gives each track a unique ID and links the information in the two dataframes.\n",
    "\n",
    "(Hint: Pandas has a function [.groupby().ngroup()](https://stackoverflow.com/questions/39665374/how-to-make-a-group-id-using-pandas) that could help you with the track id)"
   ]
  },
  {
   "cell_type": "code",
   "execution_count": null,
   "id": "45202fe9",
   "metadata": {
    "deletable": false,
    "nbgrader": {
     "cell_type": "code",
     "checksum": "f7786575a639fda87fd3e0b024aa31db",
     "grade": false,
     "grade_id": "cell-262fb79928ed7861",
     "locked": false,
     "schema_version": 3,
     "solution": true,
     "task": false
    }
   },
   "outputs": [],
   "source": [
    "# billboard_songs = ...\n",
    "# billboard_charts = ...\n",
    "\n",
    "# YOUR CODE HERE\n",
    "raise NotImplementedError()"
   ]
  },
  {
   "cell_type": "code",
   "execution_count": null,
   "id": "68031d99",
   "metadata": {
    "deletable": false,
    "editable": false,
    "nbgrader": {
     "cell_type": "code",
     "checksum": "f0ef33805096eb0f7d065f5a89aa3ae0",
     "grade": true,
     "grade_id": "cell-471f4d69736a96f9",
     "locked": true,
     "points": 4,
     "schema_version": 3,
     "solution": false,
     "task": false
    }
   },
   "outputs": [],
   "source": [
    "import numpy as np\n",
    "\n",
    "assert_is_instance(billboard_songs, pd.DataFrame)\n",
    "assert_is_instance(billboard_charts, pd.DataFrame)\n",
    "assert_true(np.array_equal(np.unique(billboard_songs[\"track_id\"]), np.unique(billboard_charts[\"track_id\"])))\n",
    "assert_equal(len(billboard_songs), 317)\n",
    "assert_equal(len(billboard_charts), 24092)"
   ]
  },
  {
   "cell_type": "markdown",
   "id": "ac70a217",
   "metadata": {},
   "source": [
    "## 2 - EDA (6 points)"
   ]
  },
  {
   "cell_type": "markdown",
   "id": "d6c24566",
   "metadata": {},
   "source": [
    "### 2a (2 points)\n",
    "Let's answer one more question about billboard hits in the 2000s. Use the billboard, billboard_songs or billboard_charts dataframes."
   ]
  },
  {
   "cell_type": "markdown",
   "id": "9b87728b",
   "metadata": {},
   "source": [
    "What was the number one hit (rank = 1) on 2000/07/29? This question may seem random (and it is), but this is the 2000s! This is the day on which Jennifer Aniston married Brad Pitt. Did they play this song? Who knows.\n",
    "\n",
    "* Define one variable\n",
    "    * \"name_song\": Name of the song that was at rank 1 on the given date"
   ]
  },
  {
   "cell_type": "code",
   "execution_count": null,
   "id": "e1079c75",
   "metadata": {
    "deletable": false,
    "nbgrader": {
     "cell_type": "code",
     "checksum": "55a59410e8d511b7ee71036aff2c2e10",
     "grade": false,
     "grade_id": "cell-75a4834772643fcd",
     "locked": false,
     "schema_version": 3,
     "solution": true,
     "task": false
    }
   },
   "outputs": [],
   "source": [
    "# name_song = ...\n",
    "\n",
    "# YOUR CODE HERE\n",
    "raise NotImplementedError()"
   ]
  },
  {
   "cell_type": "code",
   "execution_count": null,
   "id": "a57e5bc4",
   "metadata": {
    "deletable": false,
    "editable": false,
    "nbgrader": {
     "cell_type": "code",
     "checksum": "7920c11338099afddbf7858e3aec3174",
     "grade": true,
     "grade_id": "cell-03b8dca8c8ea670c",
     "locked": true,
     "points": 2,
     "schema_version": 3,
     "solution": false,
     "task": false
    }
   },
   "outputs": [],
   "source": [
    "assert_equal(name_song, \"It's Gonna Be Me\")"
   ]
  },
  {
   "cell_type": "markdown",
   "id": "826545e2",
   "metadata": {},
   "source": [
    "### 2b (4 points)\n",
    "Let's answer some questions about average heights. Use the height or height_tidy dataframes."
   ]
  },
  {
   "cell_type": "markdown",
   "id": "62f3feaf",
   "metadata": {},
   "source": [
    "What's the country with the tallest men?\n",
    "\n",
    "* Define two variables\n",
    "    * \"country_tallest_men\": Name of the country of tallest men as a string\n",
    "    * \"height_tallest_men\": Average height of men in this country in cm\n",
    "\n",
    "(Hint: Pandas function max() can help here!)"
   ]
  },
  {
   "cell_type": "code",
   "execution_count": null,
   "id": "2f4b95b6",
   "metadata": {
    "deletable": false,
    "nbgrader": {
     "cell_type": "code",
     "checksum": "dea925d745cfd911c2c96979db9be2fb",
     "grade": false,
     "grade_id": "cell-4283fe78120f5a5d",
     "locked": false,
     "schema_version": 3,
     "solution": true,
     "task": false
    }
   },
   "outputs": [],
   "source": [
    "# country_tallest_men = ...\n",
    "# height_tallest_men = ...\n",
    "\n",
    "# YOUR CODE HERE\n",
    "raise NotImplementedError()"
   ]
  },
  {
   "cell_type": "code",
   "execution_count": null,
   "id": "776733b4",
   "metadata": {
    "deletable": false,
    "editable": false,
    "nbgrader": {
     "cell_type": "code",
     "checksum": "f3414cfa3e9cbd9f8ce03c36bbbc0016",
     "grade": true,
     "grade_id": "cell-8b355e9ac20ef559",
     "locked": true,
     "points": 1,
     "schema_version": 3,
     "solution": false,
     "task": false
    }
   },
   "outputs": [],
   "source": [
    "assert_equal(country_tallest_men, \"Netherlands\")\n",
    "assert_equal(height_tallest_men, 183.78)"
   ]
  },
  {
   "cell_type": "markdown",
   "id": "97888fb2",
   "metadata": {},
   "source": [
    "In which country is the difference of average heights between men and women largest?\n",
    "\n",
    "* Define two variables\n",
    "    * \"country_largest_difference\": Name of the country where the average height difference between men and women is largest\n",
    "    * \"largest_difference\": Difference of average heights of men and women in this country in cm"
   ]
  },
  {
   "cell_type": "code",
   "execution_count": null,
   "id": "cfed69ce",
   "metadata": {
    "deletable": false,
    "nbgrader": {
     "cell_type": "code",
     "checksum": "57c2679991e9a122e578a9d994bf4262",
     "grade": false,
     "grade_id": "cell-4e575ca703ccbd4e",
     "locked": false,
     "schema_version": 3,
     "solution": true,
     "task": false
    }
   },
   "outputs": [],
   "source": [
    "# country_largest_difference = ...\n",
    "# largest_difference = ...\n",
    "\n",
    "# YOUR CODE HERE\n",
    "raise NotImplementedError()"
   ]
  },
  {
   "cell_type": "code",
   "execution_count": null,
   "id": "d0efe8fc",
   "metadata": {
    "deletable": false,
    "editable": false,
    "nbgrader": {
     "cell_type": "code",
     "checksum": "576d79d042b79a4e78f21cf9d8c1491b",
     "grade": true,
     "grade_id": "cell-f94f6cefaae9dc5b",
     "locked": true,
     "points": 2,
     "schema_version": 3,
     "solution": false,
     "task": false
    }
   },
   "outputs": [],
   "source": [
    "assert_equal(country_largest_difference, \"Puerto Rico\")\n",
    "assert_almost_equal(largest_difference, 16.42)"
   ]
  },
  {
   "cell_type": "markdown",
   "id": "d4300e39",
   "metadata": {},
   "source": [
    "What's (Pearson's) correlation value of average male and average female height?\n",
    "\n",
    "* Define a new variable \"corr_avg_heights\" that contains the correlation value of average male and female heights\n",
    "\n",
    "(Hint: Use Panda's function corr().)"
   ]
  },
  {
   "cell_type": "code",
   "execution_count": null,
   "id": "2ce947e3",
   "metadata": {
    "deletable": false,
    "nbgrader": {
     "cell_type": "code",
     "checksum": "76aafcbebbe161a5ff397ef00fd08031",
     "grade": false,
     "grade_id": "cell-b5438d2320f5d36d",
     "locked": false,
     "schema_version": 3,
     "solution": true,
     "task": false
    }
   },
   "outputs": [],
   "source": [
    "# corr_avg_heights = ...\n",
    "# YOUR CODE HERE\n",
    "raise NotImplementedError()"
   ]
  },
  {
   "cell_type": "code",
   "execution_count": null,
   "id": "a66b40ea",
   "metadata": {
    "deletable": false,
    "editable": false,
    "nbgrader": {
     "cell_type": "code",
     "checksum": "7b9deb39428549c59faed421457dddd0",
     "grade": true,
     "grade_id": "cell-21e6f8a0134468cf",
     "locked": true,
     "points": 1,
     "schema_version": 3,
     "solution": false,
     "task": false
    }
   },
   "outputs": [],
   "source": [
    "assert_almost_equal(corr_avg_heights, 0.9287870871294992)"
   ]
  },
  {
   "cell_type": "markdown",
   "id": "0d4599ef",
   "metadata": {},
   "source": [
    "## 3 (1 bonus point)\n",
    "What's problematic about the (standard) data visualizations of our course questionnaire (see lecture slides 2-3 in lecture 2)?\n",
    "\n",
    "Write a few sentences. Maximum 3."
   ]
  },
  {
   "cell_type": "markdown",
   "id": "143101e9",
   "metadata": {
    "deletable": false,
    "nbgrader": {
     "cell_type": "markdown",
     "checksum": "3d287485c25828421f50e192c0905998",
     "grade": true,
     "grade_id": "cell-0ff28f0991449b32",
     "locked": false,
     "points": 0,
     "schema_version": 3,
     "solution": true,
     "task": false
    }
   },
   "source": [
    "YOUR ANSWER HERE"
   ]
  }
 ],
 "metadata": {
  "kernelspec": {
   "display_name": "Python 3 (ipykernel)",
   "language": "python",
   "name": "python3"
  },
  "language_info": {
   "codemirror_mode": {
    "name": "ipython",
    "version": 3
   },
   "file_extension": ".py",
   "mimetype": "text/x-python",
   "name": "python",
   "nbconvert_exporter": "python",
   "pygments_lexer": "ipython3",
   "version": "3.8.12"
  }
 },
 "nbformat": 4,
 "nbformat_minor": 5
}
