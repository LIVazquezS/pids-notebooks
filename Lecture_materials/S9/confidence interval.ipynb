{
 "cells": [
  {
   "cell_type": "code",
   "execution_count": 1,
   "metadata": {},
   "outputs": [],
   "source": [
    "from scipy.stats import norm\n",
    "import numpy as np\n",
    "import seaborn as sns"
   ]
  },
  {
   "cell_type": "code",
   "execution_count": 15,
   "metadata": {},
   "outputs": [
    {
     "name": "stdout",
     "output_type": "stream",
     "text": [
      "0.472\n",
      "0.47355989090605327\n"
     ]
    }
   ],
   "source": [
    "p = 0.48\n",
    "N = 1000\n",
    "\n",
    "X = np.random.binomial(1, p, N)\n",
    "\n",
    "p_hat = X.mean() # Our estimate\n",
    "se_hat = np.sqrt(p_hat * (1 - p_hat) / N) # The standard deviation of our estimate\n",
    "std = X.std() # The standard deviation of the samples\n",
    "\n",
    "print(p_hat)\n",
    "\n",
    "print(norm.cdf(0.01/se_hat) - norm.cdf(-0.01/se_hat))"
   ]
  },
  {
   "cell_type": "code",
   "execution_count": 16,
   "metadata": {},
   "outputs": [
    {
     "data": {
      "text/plain": [
       "<matplotlib.axes._subplots.AxesSubplot at 0x7fd13825fdf0>"
      ]
     },
     "execution_count": 16,
     "metadata": {},
     "output_type": "execute_result"
    },
    {
     "data": {
      "image/png": "[encoded data removed]",
      "text/plain": [
       "<Figure size 432x288 with 1 Axes>"
      ]
     },
     "metadata": {
      "needs_background": "light"
     },
     "output_type": "display_data"
    }
   ],
   "source": [
    "# do the bootstrap\n",
    "\n",
    "import random\n",
    "\n",
    "n_boots = 5000\n",
    "boot_means = []\n",
    "\n",
    "for i_boot in range(n_boots):\n",
    "    boot_means.append(np.mean(random.choices(X, k=N)))\n",
    "\n",
    "boot_means = np.array(boot_means)\n",
    "\n",
    "# search for the symmetric 95% confidence interval \n",
    "# (starting from the other direction might be faster...)\n",
    "\n",
    "mass = 0\n",
    "pm = 0\n",
    "delta = 0.001\n",
    "\n",
    "while mass < 0.95:\n",
    "    mass = ((boot_means >= p_hat - pm) & (boot_means < p_hat + pm)).sum() / n_boots\n",
    "    pm += delta\n",
    "    \n",
    "    \n",
    "sns.histplot(boot_means)"
   ]
  },
  {
   "cell_type": "code",
   "execution_count": 17,
   "metadata": {},
   "outputs": [
    {
     "name": "stdout",
     "output_type": "stream",
     "text": [
      "Normal approximation : p_hat = 0.4720 ± 0.0310\n",
      "Bootstrap            : p_hat = 0.4720 ± 0.0330\n",
      "Relative difference  : 4.35850%\n"
     ]
    }
   ],
   "source": [
    "print(\"Normal approximation : p_hat = %0.4f ± %0.4f\" % (p_hat, 1.96*se))\n",
    "print(\"Bootstrap            : p_hat = %0.4f ± %0.4f\" % (p_hat, pm))\n",
    "print(\"Relative difference  : %0.5f%%\" % ((pm - 2*se) / (2*se) * 100))\n"
   ]
  },
  {
   "cell_type": "markdown",
   "metadata": {},
   "source": [
    "That is very interesting! Here the bootstrap is totally clueless that the underlying model is the binomial distribution. If we know that we can also first estimate the standard error of the mean estimate by bootstrap:"
   ]
  },
  {
   "cell_type": "code",
   "execution_count": 18,
   "metadata": {},
   "outputs": [
    {
     "name": "stdout",
     "output_type": "stream",
     "text": [
      "The theory (CLT approximation) suggests that se = 0.01581\n",
      "The bootstrap estimate of the standard error    = 0.01585\n"
     ]
    }
   ],
   "source": [
    "print(\"The theory (CLT approximation) suggests that se = %0.5f\" % se)\n",
    "print(\"The bootstrap estimate of the standard error    = %0.5f\" % boot_means.std())"
   ]
  },
  {
   "cell_type": "code",
   "execution_count": 78,
   "metadata": {},
   "outputs": [],
   "source": [
    "# note: those are all for the mean estimates!"
   ]
  }
 ],
 "metadata": {
  "kernelspec": {
   "display_name": "Python 3",
   "language": "python",
   "name": "python3"
  },
  "language_info": {
   "codemirror_mode": {
    "name": "ipython",
    "version": 3
   },
   "file_extension": ".py",
   "mimetype": "text/x-python",
   "name": "python",
   "nbconvert_exporter": "python",
   "pygments_lexer": "ipython3",
   "version": "3.8.3"
  }
 },
 "nbformat": 4,
 "nbformat_minor": 5
}
