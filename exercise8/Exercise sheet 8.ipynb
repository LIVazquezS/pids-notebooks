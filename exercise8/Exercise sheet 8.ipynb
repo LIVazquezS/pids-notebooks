{
 "cells": [
  {
   "cell_type": "markdown",
   "metadata": {
    "deletable": false,
    "editable": false,
    "nbgrader": {
     "cell_type": "markdown",
     "checksum": "df370d74885679cf41ac5d98286e3327",
     "grade": false,
     "grade_id": "cell-525c2fd5f3e93d2b",
     "locked": true,
     "schema_version": 3,
     "solution": false,
     "task": false
    }
   },
   "source": [
    "# Exercise sheet 8\n",
    "**Hello everyone!**\n",
    "\n",
    "**Points: 15**\n",
    "\n",
    "Please let us know if you have questions or problems! <br>\n",
    "Contact us during the exercise session, on [ADAM](https://adam.unibas.ch/goto_adam_crs_1266890.html), [Piazza](https://piazza.com/class/kzy15kp8s5t6ku), or [via email](https://sada.dmi.unibas.ch/en/teaching/pids22).\n",
    "\n",
    "Please submit this exercise sheet on **ADAM**.\n",
    "Naming conventions:\n",
    "\n",
    "1. Make a folder called \"exercise8\".\n",
    "2. Put your submission \"Exercise sheet 8.ipynb\" in there.\n",
    "3. Complete the sheet. Only put code or text inside the blocks where \"# YOUR CODE HERE\" or \"YOUR ANSWER HERE\" is written. Everything else will be deleted during grading. Don't add new blocks.\n",
    "4. Then zip the folder called \"exerciseN\". This will create a zip file called \"exerciseN.zip\". Rename that zip file to your Unibas short name, e.g. \"blabla0000.zip\".\n",
    "\n",
    "Common mistakes:\n",
    "- Don't use capital letter for your identification name, or the exercise folder.\n",
    "- Don't put previous sheet or dataset on the submission folders. Just the sheet, ipynb format.\n",
    "\n",
    "\n",
    "\n",
    "**Handout date**: 2022/05/03 <br>\n",
    "**Submission date**: 2022/05/10 <br>"
   ]
  },
  {
   "cell_type": "code",
   "execution_count": null,
   "metadata": {
    "deletable": false,
    "editable": false,
    "nbgrader": {
     "cell_type": "code",
     "checksum": "7507654ee472d9dacdf5abeb6957f4d2",
     "grade": false,
     "grade_id": "cell-41524afeb7ebe206",
     "locked": true,
     "schema_version": 3,
     "solution": false,
     "task": false
    }
   },
   "outputs": [],
   "source": [
    "import pandas as pd\n",
    "import seaborn as sns\n",
    "import matplotlib.pyplot as plt\n",
    "import numpy as np\n",
    "from scipy import stats\n",
    "from nose.tools import assert_is_instance, assert_equal, assert_almost_equal, assert_true"
   ]
  },
  {
   "cell_type": "markdown",
   "metadata": {
    "deletable": false,
    "editable": false,
    "nbgrader": {
     "cell_type": "markdown",
     "checksum": "ddcaf65a5a56f522f5a2532983c1cde9",
     "grade": false,
     "grade_id": "cell-53460d34058f3491",
     "locked": true,
     "schema_version": 3,
     "solution": false,
     "task": false
    }
   },
   "source": [
    "# 1 (8 points)\n",
    "We define a random variable $X_\\text{mean}$ as follows:\n",
    "$$\n",
    "X_\\text{mean} = \\dfrac{1}{N} \\sum_{i=1}^N X_i \n",
    "$$\n",
    "Where $X_i \\sim$ Binomial($n,p$). As discussed in the last lecture, we can analytically compute the mean and variance of this random variable:\n",
    "$$\n",
    "\\mathbb{E}[X_\\text{mean}] = \\dfrac{1}{N} \\sum_{i=1}^N \\mathbb{E}[X_i] = np\n",
    "$$\n",
    "$$\n",
    "\\text{Var}[X_\\text{mean}] = \\dfrac{1}{N^2} \\sum_{i=1}^N \\text{Var}[X_i] = \\dfrac{np(1-p)}{N}\n",
    "$$\n",
    "In this exercise, we want to verify the analytical results experimentally.\n",
    "As the first step, let's define a Binomial random variable:"
   ]
  },
  {
   "cell_type": "code",
   "execution_count": null,
   "metadata": {
    "deletable": false,
    "editable": false,
    "nbgrader": {
     "cell_type": "code",
     "checksum": "2578bcf67f52b90da1c108558f2a4965",
     "grade": false,
     "grade_id": "cell-de32fce7c84d1792",
     "locked": true,
     "schema_version": 3,
     "solution": false,
     "task": false
    }
   },
   "outputs": [],
   "source": [
    "n = 20 # The total number of trials\n",
    "p = 0.5 # The probability of success in each trial\n",
    "X = stats.binom(n, p)\n",
    "# Please check this page for more information: \n",
    "# https://docs.scipy.org/doc/scipy-0.13.0/reference/generated/scipy.stats.binom.html#scipy.stats.binom"
   ]
  },
  {
   "cell_type": "markdown",
   "metadata": {
    "deletable": false,
    "editable": false,
    "nbgrader": {
     "cell_type": "markdown",
     "checksum": "16831074944dbc21f8e4619e390bb927",
     "grade": false,
     "grade_id": "cell-5d9cbb87ed2f5e87",
     "locked": true,
     "schema_version": 3,
     "solution": false,
     "task": false
    }
   },
   "source": [
    "### 1a (2 points)\n",
    "Now generate a matrix with size $m \\times N$ containing samples from the given Binomial distribution (call it $x$). Then calculate the mean of each row of this matrix and make a vector with size $m$ and call it mean ($m$ random samples of $X_\\text{mean}$). Plot the histogram of the calculated means.\n",
    "\n",
    "**Important**: Please do not make a new cell for the plot. Plot the histogram in the same cell.\n",
    "\n",
    "**Important**: Please do not use a \"for-loop\" for sample generation; X.rvs can take the shape of the matrix and generate it."
   ]
  },
  {
   "cell_type": "code",
   "execution_count": null,
   "metadata": {
    "deletable": false,
    "nbgrader": {
     "cell_type": "code",
     "checksum": "a5208f5fa3cdbef91c923fbb4161cdfa",
     "grade": false,
     "grade_id": "cell-cda45808f0efe171",
     "locked": false,
     "schema_version": 3,
     "solution": true,
     "task": false
    }
   },
   "outputs": [],
   "source": [
    "m = 100\n",
    "N = 10\n",
    "np.random.seed(0)\n",
    "# YOUR CODE HERE\n",
    "raise NotImplementedError()\n",
    "# x = \n",
    "# mean = "
   ]
  },
  {
   "cell_type": "code",
   "execution_count": null,
   "metadata": {
    "deletable": false,
    "editable": false,
    "nbgrader": {
     "cell_type": "code",
     "checksum": "2ebf831ef6ea82591c96dc3c0c504992",
     "grade": true,
     "grade_id": "cell-c9ddc644dd40e1eb",
     "locked": true,
     "points": 2,
     "schema_version": 3,
     "solution": false,
     "task": false
    }
   },
   "outputs": [],
   "source": [
    "print(mean.mean())\n",
    "print(mean.std())\n",
    "assert_equal(len(x), m)\n",
    "assert_almost_equal(mean.mean(), 9.983 , places=2)\n",
    "assert_almost_equal(mean.std() , 0.836 , places=2)"
   ]
  },
  {
   "cell_type": "markdown",
   "metadata": {
    "deletable": false,
    "editable": false,
    "nbgrader": {
     "cell_type": "markdown",
     "checksum": "1f94fac0661c3761a88cc7253497befd",
     "grade": false,
     "grade_id": "cell-6fcab90fcffa4ae2",
     "locked": true,
     "schema_version": 3,
     "solution": false,
     "task": false
    }
   },
   "source": [
    "### 1b (4 points)\n",
    "Now we want to repeat this process for $N=\\{1,2,...,k\\}$ instead of a single $N=10$. So write a code to generate the mean for each $N$ (as you did for $N=10$) and store all the calculated means in \"means\" which would be a matrix with size $k \\times m$.\n",
    "\n",
    "**Important**: Please do not use a \"for-loop\" for sample generation; X.rvs can take the shape of the matrix and generate it. You can use \"for-loop\" anywhere else."
   ]
  },
  {
   "cell_type": "code",
   "execution_count": null,
   "metadata": {
    "deletable": false,
    "nbgrader": {
     "cell_type": "code",
     "checksum": "fbc8faa4c3a013010b858fdf4d142157",
     "grade": false,
     "grade_id": "cell-0f3266550e4db393",
     "locked": false,
     "schema_version": 3,
     "solution": true,
     "task": false
    }
   },
   "outputs": [],
   "source": [
    "m = 100\n",
    "k = 50\n",
    "np.random.seed(0)\n",
    "means = np.zeros([k,m])\n",
    "# YOUR CODE HERE\n",
    "raise NotImplementedError()\n",
    "# means = "
   ]
  },
  {
   "cell_type": "code",
   "execution_count": null,
   "metadata": {
    "deletable": false,
    "editable": false,
    "nbgrader": {
     "cell_type": "code",
     "checksum": "85bf580ad6ef38cfa18aef20458785fd",
     "grade": true,
     "grade_id": "cell-bf5d9fe64b7e6143",
     "locked": true,
     "points": 4,
     "schema_version": 3,
     "solution": false,
     "task": false
    }
   },
   "outputs": [],
   "source": [
    "print(len(means))\n",
    "print(means.mean())\n",
    "print(means.std())\n",
    "assert_equal(len(means), k)\n",
    "assert_almost_equal(means.mean(), 9.992 , places=2)\n",
    "assert_almost_equal(means.std() , 0.677 , places=2)"
   ]
  },
  {
   "cell_type": "markdown",
   "metadata": {
    "deletable": false,
    "editable": false,
    "nbgrader": {
     "cell_type": "markdown",
     "checksum": "bc353da86c82967542c01fa59b4d1111",
     "grade": false,
     "grade_id": "cell-0682fdc8882d815c",
     "locked": true,
     "schema_version": 3,
     "solution": false,
     "task": false
    }
   },
   "source": [
    "### 1c (2 points)\n",
    "Now calculate the variance of each mean and store the variances in a vector with size k and call it variences. Plot the histogram of variences for $N=\\{1,2,...,k\\}$.\n",
    "\n",
    "**Important**: Please do not make a new cell for the plot. Plot the histogram in the same cell."
   ]
  },
  {
   "cell_type": "code",
   "execution_count": null,
   "metadata": {
    "deletable": false,
    "nbgrader": {
     "cell_type": "code",
     "checksum": "7fe4dfba8bfaba4776f92943eca2dd7d",
     "grade": false,
     "grade_id": "cell-183fea12257ba84f",
     "locked": false,
     "schema_version": 3,
     "solution": true,
     "task": false
    }
   },
   "outputs": [],
   "source": [
    "# YOUR CODE HERE\n",
    "raise NotImplementedError()\n",
    "# variances ="
   ]
  },
  {
   "cell_type": "code",
   "execution_count": null,
   "metadata": {
    "deletable": false,
    "editable": false,
    "nbgrader": {
     "cell_type": "code",
     "checksum": "930fd2859c3c97544297a9b4019c6c23",
     "grade": true,
     "grade_id": "cell-b16bddc2f8788742",
     "locked": true,
     "points": 2,
     "schema_version": 3,
     "solution": false,
     "task": false
    }
   },
   "outputs": [],
   "source": [
    "print(variances.mean())\n",
    "print(variances.var())\n",
    "\n",
    "assert_almost_equal(variances.mean(), 0.455 , places=2)\n",
    "assert_almost_equal(variances.var(), 0.646 , places=2)"
   ]
  },
  {
   "cell_type": "markdown",
   "metadata": {
    "deletable": false,
    "editable": false,
    "nbgrader": {
     "cell_type": "markdown",
     "checksum": "def953f68e8b0dc4abc55487a6b5dfd9",
     "grade": false,
     "grade_id": "cell-3b593abf923267bc",
     "locked": true,
     "schema_version": 3,
     "solution": false,
     "task": false
    }
   },
   "source": [
    "Does the variance decrease as we increase the number of samples ($N$)? Why?"
   ]
  },
  {
   "cell_type": "markdown",
   "metadata": {
    "deletable": false,
    "nbgrader": {
     "cell_type": "markdown",
     "checksum": "573df8cdc7d4afe9a91073dfa19a6711",
     "grade": true,
     "grade_id": "cell-dfab7379a295c647",
     "locked": false,
     "points": 0,
     "schema_version": 3,
     "solution": true,
     "task": false
    }
   },
   "source": [
    "YOUR ANSWER HERE"
   ]
  },
  {
   "cell_type": "markdown",
   "metadata": {
    "deletable": false,
    "editable": false,
    "nbgrader": {
     "cell_type": "markdown",
     "checksum": "92ce549d7d0e2fbd03bfa3a9de59e2ff",
     "grade": false,
     "grade_id": "cell-bf218f2a711395fc",
     "locked": true,
     "schema_version": 3,
     "solution": false,
     "task": false
    }
   },
   "source": [
    "# 2 (7 points)\n",
    "## Confidence Interval\n",
    "In this exercise, we work on confidence interval calculation using bottstrap technique.\n",
    "Let's generate $N$ samples from Gaussian distribution:"
   ]
  },
  {
   "cell_type": "code",
   "execution_count": null,
   "metadata": {
    "deletable": false,
    "editable": false,
    "nbgrader": {
     "cell_type": "code",
     "checksum": "cd3770ac6d97209cb5c4521e27571e2a",
     "grade": false,
     "grade_id": "cell-feab5992c895e9e3",
     "locked": true,
     "schema_version": 3,
     "solution": false,
     "task": false
    }
   },
   "outputs": [],
   "source": [
    "mu = 0.0\n",
    "sigma = 1.0\n",
    "N = 400\n",
    "\n",
    "np.random.seed(0)\n",
    "X = stats.norm(loc = mu , scale = sigma)\n",
    "x = X.rvs(N)\n",
    "sns.histplot(x)\n",
    "\n",
    "# Please check this page for more information: \n",
    "# https://docs.scipy.org/doc/scipy/reference/generated/scipy.stats.norm.html"
   ]
  },
  {
   "cell_type": "markdown",
   "metadata": {
    "deletable": false,
    "editable": false,
    "nbgrader": {
     "cell_type": "markdown",
     "checksum": "1d4b0a673495cb7fa45cad6ffd3c0e19",
     "grade": false,
     "grade_id": "cell-a7768c9418cb5405",
     "locked": true,
     "schema_version": 3,
     "solution": false,
     "task": false
    }
   },
   "source": [
    "### 2a (6 points)\n",
    "\n",
    "As discussed in the last lecture, one way to find the confidence interval is the bootstrap technique. Consider you are given $N$ samples, the confidence interval of $0.95$ using bootstrap is calculated as follows:\n",
    "\n",
    "1. Select $N$ samples with replacements from the given samples.\n",
    "2. Calculate the mean value and store it in an array\n",
    "3. Repeat the process $k$ times On the array of mean values, calculate the 2.5th percentile and 97.5th percentile (if you want a 95% confidence interval)\n",
    "\n",
    "Implement the bootstrap method and store the confidence interval in CI, a list with two values, the lower and the upper bounds."
   ]
  },
  {
   "cell_type": "code",
   "execution_count": null,
   "metadata": {
    "deletable": false,
    "nbgrader": {
     "cell_type": "code",
     "checksum": "ff3099a9c806a4440e7bb21dccb3dd99",
     "grade": false,
     "grade_id": "cell-5b337223591e2e4e",
     "locked": false,
     "schema_version": 3,
     "solution": true,
     "task": false
    }
   },
   "outputs": [],
   "source": [
    "k = 50\n",
    "confidence = 0.95\n",
    "\n",
    "np.random.seed(0)\n",
    "# YOUR CODE HERE\n",
    "raise NotImplementedError()\n",
    "# CI = \n",
    "\n",
    "print(\"The confidence interval for N={} is: {}\".format(N,CI))"
   ]
  },
  {
   "cell_type": "code",
   "execution_count": null,
   "metadata": {
    "deletable": false,
    "editable": false,
    "nbgrader": {
     "cell_type": "code",
     "checksum": "1e4b29e4be07dd4817ada59993b170ac",
     "grade": true,
     "grade_id": "cell-6f0a7cf4470fcd2c",
     "locked": true,
     "points": 6,
     "schema_version": 3,
     "solution": false,
     "task": false
    }
   },
   "outputs": [],
   "source": [
    "print(len(CI))\n",
    "print(CI[1] - CI[0])\n",
    "print(CI.std())\n",
    "assert_equal(len(CI), 2)\n",
    "assert_almost_equal(CI[1] - CI[0], 0.21 , places=2)\n",
    "assert_almost_equal(CI.std() , 0.107 , places=2)"
   ]
  },
  {
   "cell_type": "markdown",
   "metadata": {
    "deletable": false,
    "editable": false,
    "nbgrader": {
     "cell_type": "markdown",
     "checksum": "aa33099415011db53b582cbee9cc8889",
     "grade": false,
     "grade_id": "cell-414eb133d0e5aa4d",
     "locked": true,
     "schema_version": 3,
     "solution": false,
     "task": false
    }
   },
   "source": [
    "### 2b (1 points)\n",
    "Compute the confidence interval for $N = 4000$ (instead of 400) "
   ]
  },
  {
   "cell_type": "code",
   "execution_count": null,
   "metadata": {
    "deletable": false,
    "nbgrader": {
     "cell_type": "code",
     "checksum": "0c5c7b5ecaab7f64e5ffd28a725f24ff",
     "grade": false,
     "grade_id": "cell-91ea8555ad4a3aa1",
     "locked": false,
     "schema_version": 3,
     "solution": true,
     "task": false
    }
   },
   "outputs": [],
   "source": [
    "mu = 0.0\n",
    "sigma = 1.0\n",
    "N = 4000 # previously 400\n",
    "\n",
    "np.random.seed(0)\n",
    "X = stats.norm(loc = mu , scale = sigma)\n",
    "x = X.rvs(N)\n",
    "sns.histplot(x)\n",
    "\n",
    "k = 50\n",
    "confidence = 0.95\n",
    "# YOUR CODE HERE\n",
    "raise NotImplementedError()\n",
    "# CI\n",
    "\n",
    "print(\"The confidence interval for N={} is: {}\".format(N,CI))"
   ]
  },
  {
   "cell_type": "code",
   "execution_count": null,
   "metadata": {
    "deletable": false,
    "editable": false,
    "nbgrader": {
     "cell_type": "code",
     "checksum": "114fb0789d5c880a7cee094538eb57d0",
     "grade": true,
     "grade_id": "cell-83a180ab2c7f390b",
     "locked": true,
     "points": 1,
     "schema_version": 3,
     "solution": false,
     "task": false
    }
   },
   "outputs": [],
   "source": [
    "print(len(CI))\n",
    "print(CI[1] - CI[0])\n",
    "print(CI.std())\n",
    "assert_equal(len(CI), 2)\n",
    "assert_almost_equal(CI[1] - CI[0], 0.054 , places=2)\n",
    "assert_almost_equal(CI.std() , 0.027 , places=2)"
   ]
  },
  {
   "cell_type": "markdown",
   "metadata": {
    "deletable": false,
    "editable": false,
    "nbgrader": {
     "cell_type": "markdown",
     "checksum": "3176fa252bb0d7bdb742ba88387f8dc4",
     "grade": false,
     "grade_id": "cell-1ee75e65e6b178a9",
     "locked": true,
     "schema_version": 3,
     "solution": false,
     "task": false
    }
   },
   "source": [
    "Does the confidencence interval shrinke by increasing the number of samples ($N$)? Why?"
   ]
  },
  {
   "cell_type": "markdown",
   "metadata": {
    "deletable": false,
    "nbgrader": {
     "cell_type": "markdown",
     "checksum": "bd777e31afa0c5c650cde72bb4bc004b",
     "grade": true,
     "grade_id": "cell-65bf874d057128f1",
     "locked": false,
     "points": 0,
     "schema_version": 3,
     "solution": true,
     "task": false
    }
   },
   "source": [
    "YOUR ANSWER HERE"
   ]
  }
 ],
 "metadata": {
  "kernelspec": {
   "display_name": "Python 3",
   "language": "python",
   "name": "python3"
  },
  "language_info": {
   "codemirror_mode": {
    "name": "ipython",
    "version": 3
   },
   "file_extension": ".py",
   "mimetype": "text/x-python",
   "name": "python",
   "nbconvert_exporter": "python",
   "pygments_lexer": "ipython3",
   "version": "3.8.3"
  }
 },
 "nbformat": 4,
 "nbformat_minor": 5
}
