{
 "cells": [
  {
   "cell_type": "markdown",
   "metadata": {},
   "source": [
    "Before you turn this problem in, make sure everything runs as expected. First, **restart the kernel** (in the menubar, select Kernel$\\rightarrow$Restart) and then **run all cells** (in the menubar, select Cell$\\rightarrow$Run All).\n",
    "\n",
    "Make sure you fill in any place that says `YOUR CODE HERE` or \"YOUR ANSWER HERE\", as well as your name and collaborators below:"
   ]
  },
  {
   "cell_type": "code",
   "execution_count": null,
   "metadata": {},
   "outputs": [],
   "source": [
    "NAME = \"\"\n",
    "COLLABORATORS = \"\""
   ]
  },
  {
   "cell_type": "markdown",
   "metadata": {},
   "source": [
    "---"
   ]
  },
  {
   "cell_type": "markdown",
   "metadata": {
    "deletable": false,
    "editable": false,
    "nbgrader": {
     "cell_type": "markdown",
     "checksum": "2ab71ca68cba3b69978f5e1d0068aa36",
     "grade": false,
     "grade_id": "cell-e6e5ccb7bcba6d8e",
     "locked": true,
     "schema_version": 3,
     "solution": false,
     "task": false
    }
   },
   "source": [
    "Before you turn this problem in, make sure everything runs as expected. First, **restart the kernel** (in the menubar, select Kernel$\\rightarrow$Restart) and then **run all cells** (in the menubar, select Cell$\\rightarrow$Run All).\n",
    "\n",
    "Make sure you fill in any place that says `YOUR CODE HERE` or \"YOUR ANSWER HERE\", as well as your name and collaborators below:"
   ]
  },
  {
   "cell_type": "code",
   "execution_count": null,
   "metadata": {},
   "outputs": [],
   "source": [
    "NAME = \"\"\n",
    "COLLABORATORS = \"\""
   ]
  },
  {
   "cell_type": "markdown",
   "metadata": {
    "deletable": false,
    "editable": false,
    "nbgrader": {
     "cell_type": "markdown",
     "checksum": "2d828555aa81f7d8423fc99db5b63d64",
     "grade": false,
     "grade_id": "jupyter",
     "locked": true,
     "schema_version": 3,
     "solution": false
    }
   },
   "source": [
    "# Exercise sheet 3\n",
    "**Hello everyone!**\n",
    "\n",
    "This is the second graded exercise sheet. <br>\n",
    "**Points: 15(+2)**\n",
    "\n",
    "Topics of this exercise sheet are:\n",
    "* Get confident with Jupyter, pandas\n",
    "* Matplotlib\n",
    "* Introduction to more advanced visualization tools\n",
    "* Search new functions on your own\n",
    "\n",
    "Please let us know if you have questions or problems! <br>\n",
    "Contact us during the exercise session, on [ADAM](https://adam.unibas.ch/goto_adam_crs_1266890.html), [Piazza](https://piazza.com/class/kzy15kp8s5t6ku), or [via email](https://sada.dmi.unibas.ch/en/teaching/pids22).\n",
    "\n",
    "Please submit this exercise sheet on **ADAM**.\n",
    "Naming conventions:\n",
    "* Name of notebook: \"Exercise sheet 3.ipynb\"\n",
    "* Please put it in a folder structure like this: \"your_unibas_short_name/Exercise3/Exercise sheet 3.ipynb\"\n",
    "* Your Unibas short name should (maybe) have the first 6 letters of your last name and then 4 numbers. Find it on viaweb.unibas.ch\n",
    "* Then zip this folder and upload it on ADAM.\n",
    "\n",
    "**Handout date**: 2022/03/21 <br>\n",
    "**Submission date**: 2022/03/28 <br>\n",
    "**Discussion date**: 2022/03/29"
   ]
  },
  {
   "cell_type": "markdown",
   "metadata": {
    "deletable": false,
    "editable": false,
    "nbgrader": {
     "cell_type": "markdown",
     "checksum": "be5233fb6a74f7d447a5ddb796023b28",
     "grade": false,
     "grade_id": "cell-57d368dcc28ae1d8",
     "locked": true,
     "schema_version": 3,
     "solution": false,
     "task": false
    }
   },
   "source": [
    "##  About this notebook\n",
    "\n",
    "In this notebook we will explore data on college majors sourced from the American Community Survey 2010–2012 Public Use Microdata Sample. This dataset can be found at this [URL](https://raw.githubusercontent.com/fivethirtyeight/data/master/college-majors/recent-grads.csv)."
   ]
  },
  {
   "cell_type": "markdown",
   "metadata": {
    "deletable": false,
    "editable": false,
    "nbgrader": {
     "cell_type": "markdown",
     "checksum": "5deb12e143967b3a6709a6b639bacadc",
     "grade": false,
     "grade_id": "cell-fa0536a174aaddfb",
     "locked": true,
     "schema_version": 3,
     "solution": false,
     "task": false
    }
   },
   "source": [
    "---\n",
    "## Part A (2 point)\n",
    "\n",
    "In this part you will load the dataset and have a rapid overview of what it looks like."
   ]
  },
  {
   "cell_type": "code",
   "execution_count": null,
   "metadata": {
    "deletable": false,
    "editable": false,
    "nbgrader": {
     "cell_type": "code",
     "checksum": "7623347340cb85eb5c3ea24417e13462",
     "grade": false,
     "grade_id": "cell-e90187f8c6e78984",
     "locked": true,
     "schema_version": 3,
     "solution": false,
     "task": false
    }
   },
   "outputs": [],
   "source": [
    "import pandas as pd\n",
    "from nose.tools import assert_is_instance, assert_equal, assert_almost_equal, assert_true"
   ]
  },
  {
   "cell_type": "markdown",
   "metadata": {
    "deletable": false,
    "editable": false,
    "nbgrader": {
     "cell_type": "markdown",
     "checksum": "33f298c69a09be01104e99cb3acb514a",
     "grade": false,
     "grade_id": "cell-fca2620292bebc35",
     "locked": true,
     "schema_version": 3,
     "solution": false,
     "task": false
    }
   },
   "source": [
    "Load the data in a Pandas dataframe using \"read_csv\" Pandas function."
   ]
  },
  {
   "cell_type": "code",
   "execution_count": null,
   "metadata": {
    "deletable": false,
    "nbgrader": {
     "cell_type": "code",
     "checksum": "d50f2d769ca299f10c52ca2da9bb49a0",
     "grade": false,
     "grade_id": "cell-b29708797b6d4e98",
     "locked": false,
     "schema_version": 3,
     "solution": true,
     "task": false
    }
   },
   "outputs": [],
   "source": [
    "# df = pd.read_csv()\n",
    "# YOUR CODE HERE\n",
    "\n",
    "\n",
    "# YOUR CODE HERE\n",
    "raise NotImplementedError()"
   ]
  },
  {
   "cell_type": "markdown",
   "metadata": {
    "deletable": false,
    "editable": false,
    "nbgrader": {
     "cell_type": "markdown",
     "checksum": "a123c98215c0df48754b88395bb9d05c",
     "grade": false,
     "grade_id": "cell-d83c02d6d67db8c9",
     "locked": true,
     "schema_version": 3,
     "solution": false,
     "task": false
    }
   },
   "source": [
    "Display the first few rows and **all the columns**. This will help you to have an idea of what is inside the dataset."
   ]
  },
  {
   "cell_type": "code",
   "execution_count": null,
   "metadata": {
    "deletable": false,
    "nbgrader": {
     "cell_type": "code",
     "checksum": "553ad0dc2cbb99e577e16a5b35da7e68",
     "grade": false,
     "grade_id": "cell-4d97c593e4c05a0f",
     "locked": false,
     "schema_version": 3,
     "solution": true,
     "task": false
    }
   },
   "outputs": [],
   "source": [
    "# df.head()\n",
    "# YOUR CODE HERE\n",
    "\n",
    "# YOUR CODE HERE\n",
    "raise NotImplementedError()"
   ]
  },
  {
   "cell_type": "code",
   "execution_count": null,
   "metadata": {
    "deletable": false,
    "editable": false,
    "nbgrader": {
     "cell_type": "code",
     "checksum": "57b97376544fe2c53e204224d406adff",
     "grade": true,
     "grade_id": "cell-494f50ef1efaef44",
     "locked": true,
     "points": 2,
     "schema_version": 3,
     "solution": false,
     "task": false
    }
   },
   "outputs": [],
   "source": [
    "test = ((len(df.columns)==pd.options.display.max_columns) or (pd.options.display.max_columns == None) or (pd.options.display.max_columns >= 21))\n",
    "assert_equal(test,True)"
   ]
  },
  {
   "cell_type": "markdown",
   "metadata": {
    "deletable": false,
    "editable": false,
    "nbgrader": {
     "cell_type": "markdown",
     "checksum": "92a9ab5dc71f59d6874d8883935652f1",
     "grade": false,
     "grade_id": "cell-ae94e85e143b7277",
     "locked": true,
     "schema_version": 3,
     "solution": false,
     "task": false
    }
   },
   "source": [
    "## Part B (4 points)\n",
    "\n",
    "In this part we will plot basic information to get a sense of the dataset. You can use the pandas plot functions or matplotlib plot functions. <br>\n",
    "For your information, \"Rank\" is the major’s rank by median earnings."
   ]
  },
  {
   "cell_type": "markdown",
   "metadata": {
    "deletable": false,
    "editable": false,
    "nbgrader": {
     "cell_type": "markdown",
     "checksum": "af22c70d808423056f7506258d3e3781",
     "grade": false,
     "grade_id": "cell-8a9fcb9c1c29febb",
     "locked": true,
     "schema_version": 3,
     "solution": false,
     "task": false
    }
   },
   "source": [
    "Does the unemployment rate look proportional to the rank of the major? Display the unemployment rate against the rank of the major."
   ]
  },
  {
   "cell_type": "code",
   "execution_count": null,
   "metadata": {
    "deletable": false,
    "nbgrader": {
     "cell_type": "code",
     "checksum": "f1e8ef4536535af2cda2fe0bef94e5fb",
     "grade": false,
     "grade_id": "cell-acfaa3f32953bcbb",
     "locked": false,
     "schema_version": 3,
     "solution": true,
     "task": false
    }
   },
   "outputs": [],
   "source": [
    "# YOUR CODE HERE\n",
    "\n",
    "# YOUR CODE HERE\n",
    "raise NotImplementedError()"
   ]
  },
  {
   "cell_type": "markdown",
   "metadata": {
    "deletable": false,
    "editable": false,
    "nbgrader": {
     "cell_type": "markdown",
     "checksum": "253387a9c2c9d712964184be4e5de663",
     "grade": false,
     "grade_id": "cell-55ef276f68299d82",
     "locked": true,
     "schema_version": 3,
     "solution": false,
     "task": false
    }
   },
   "source": [
    "Does the salary look proportional to the rank of the major? Display the median salary, the 25th and 75th percentiles against the rank of the mjor. Display all three lines in the same plot."
   ]
  },
  {
   "cell_type": "code",
   "execution_count": null,
   "metadata": {
    "deletable": false,
    "nbgrader": {
     "cell_type": "code",
     "checksum": "fda11bed71cba72492a54bac5eabbe37",
     "grade": true,
     "grade_id": "cell-b5d156584da87cd5",
     "locked": false,
     "points": 1,
     "schema_version": 3,
     "solution": true,
     "task": false
    }
   },
   "outputs": [],
   "source": [
    "# YOUR CODE HERE\n",
    "\n",
    "# YOUR CODE HERE\n",
    "raise NotImplementedError()"
   ]
  },
  {
   "cell_type": "markdown",
   "metadata": {
    "deletable": false,
    "editable": false,
    "nbgrader": {
     "cell_type": "markdown",
     "checksum": "df00ac05db70a46beca94c075a295cc5",
     "grade": false,
     "grade_id": "cell-6067837abce6a692",
     "locked": true,
     "schema_version": 3,
     "solution": false,
     "task": false
    }
   },
   "source": [
    "Display the number of low wage jobs against the rank of the Major."
   ]
  },
  {
   "cell_type": "code",
   "execution_count": null,
   "metadata": {
    "deletable": false,
    "nbgrader": {
     "cell_type": "code",
     "checksum": "cbace9e134f59c14e8e46c137053683c",
     "grade": false,
     "grade_id": "cell-ddbbd4c867c01c29",
     "locked": false,
     "schema_version": 3,
     "solution": true,
     "task": false
    }
   },
   "outputs": [],
   "source": [
    "# YOUR CODE HERE\n",
    "\n",
    "# YOUR CODE HERE\n",
    "raise NotImplementedError()"
   ]
  },
  {
   "cell_type": "markdown",
   "metadata": {
    "deletable": false,
    "editable": false,
    "nbgrader": {
     "cell_type": "markdown",
     "checksum": "9144214787b63ddfc1c72bf5b9d4d611",
     "grade": false,
     "grade_id": "cell-d824236c2b810055",
     "locked": true,
     "schema_version": 3,
     "solution": false,
     "task": false
    }
   },
   "source": [
    "Can we make conclusions about the relation between low wage jobs and the rank of the Major?\n",
    "\n",
    "We will display the percentage of low wage jobs against the rank of the major and use Matplotlib to get a more precise plot."
   ]
  },
  {
   "cell_type": "code",
   "execution_count": null,
   "metadata": {
    "deletable": false,
    "editable": false,
    "nbgrader": {
     "cell_type": "code",
     "checksum": "f2c80ef46010ed6a4d26cd9353cd66e0",
     "grade": false,
     "grade_id": "cell-9d1ea5002c784506",
     "locked": true,
     "schema_version": 3,
     "solution": false,
     "task": false
    }
   },
   "outputs": [],
   "source": [
    "import matplotlib.pyplot as plt"
   ]
  },
  {
   "cell_type": "markdown",
   "metadata": {
    "deletable": false,
    "editable": false,
    "nbgrader": {
     "cell_type": "markdown",
     "checksum": "70104f4afd32905c487fa45fdbcc9c10",
     "grade": false,
     "grade_id": "cell-12013f5c97977412",
     "locked": true,
     "schema_version": 3,
     "solution": false,
     "task": false
    }
   },
   "source": [
    "Extract the rank, number of low wage jobs, and the number of employed from the data and put each of them into their own series."
   ]
  },
  {
   "cell_type": "code",
   "execution_count": null,
   "metadata": {
    "deletable": false,
    "nbgrader": {
     "cell_type": "code",
     "checksum": "15e617a76e36f08565a0209e44e0008d",
     "grade": false,
     "grade_id": "cell-2d29ee1c10fccd4f",
     "locked": false,
     "schema_version": 3,
     "solution": true,
     "task": false
    }
   },
   "outputs": [],
   "source": [
    "# df_rank = ...\n",
    "# df_wage = ...\n",
    "# df_employed = ...\n",
    "\n",
    "# YOUR CODE HERE\n",
    "\n",
    "# YOUR CODE HERE\n",
    "raise NotImplementedError()"
   ]
  },
  {
   "cell_type": "code",
   "execution_count": null,
   "metadata": {
    "deletable": false,
    "editable": false,
    "nbgrader": {
     "cell_type": "code",
     "checksum": "f900cb9fe8f05437ff3779073136d072",
     "grade": true,
     "grade_id": "cell-2fa9411434ff0423",
     "locked": true,
     "points": 2,
     "schema_version": 3,
     "solution": false,
     "task": false
    }
   },
   "outputs": [],
   "source": [
    "assert_equal(type(df_rank), pd.core.series.Series)\n",
    "assert_equal(df_rank.name, 'Rank')\n",
    "assert_equal(type(df_wage), pd.core.series.Series)"
   ]
  },
  {
   "cell_type": "markdown",
   "metadata": {
    "deletable": false,
    "editable": false,
    "nbgrader": {
     "cell_type": "markdown",
     "checksum": "7f14beb53cf4086fdf38f69554a4636c",
     "grade": false,
     "grade_id": "cell-4a4b7b4d66704238",
     "locked": true,
     "schema_version": 3,
     "solution": false,
     "task": false
    }
   },
   "source": [
    "Display the percentage of low wage jobs against the rank of the major. "
   ]
  },
  {
   "cell_type": "code",
   "execution_count": null,
   "metadata": {
    "deletable": false,
    "nbgrader": {
     "cell_type": "code",
     "checksum": "8923aee1d2340f94aa1ba06fdf988b8b",
     "grade": true,
     "grade_id": "cell-c8617292a46c524d",
     "locked": false,
     "points": 1,
     "schema_version": 3,
     "solution": true,
     "task": false
    }
   },
   "outputs": [],
   "source": [
    "# YOUR CODE HERE\n",
    "\n",
    "# YOUR CODE HERE\n",
    "raise NotImplementedError()"
   ]
  },
  {
   "cell_type": "markdown",
   "metadata": {
    "deletable": false,
    "editable": false,
    "nbgrader": {
     "cell_type": "markdown",
     "checksum": "f0da2456c1a255c47be208dbdf60df92",
     "grade": false,
     "grade_id": "cell-a5c7074bbe5650f2",
     "locked": true,
     "schema_version": 3,
     "solution": false,
     "task": false
    }
   },
   "source": [
    "## Part C (3 point, +1)\n",
    "In this part, we will get some information about the distribution of the data."
   ]
  },
  {
   "cell_type": "markdown",
   "metadata": {
    "deletable": false,
    "editable": false,
    "nbgrader": {
     "cell_type": "markdown",
     "checksum": "273446add2aac727e32838fbe32a81bc",
     "grade": false,
     "grade_id": "cell-7aa0c789139bc044",
     "locked": true,
     "schema_version": 3,
     "solution": false,
     "task": false
    }
   },
   "source": [
    "Display the histogram for the median of the salary. "
   ]
  },
  {
   "cell_type": "code",
   "execution_count": null,
   "metadata": {
    "deletable": false,
    "nbgrader": {
     "cell_type": "code",
     "checksum": "f5babd92ec4a996dca8f98c76bfa1b10",
     "grade": false,
     "grade_id": "cell-d6d3efd95686ee59",
     "locked": false,
     "schema_version": 3,
     "solution": true,
     "task": false
    }
   },
   "outputs": [],
   "source": [
    "# YOUR CODE HERE\n",
    "\n",
    "# YOUR CODE HERE\n",
    "raise NotImplementedError()"
   ]
  },
  {
   "cell_type": "markdown",
   "metadata": {
    "deletable": false,
    "editable": false,
    "nbgrader": {
     "cell_type": "markdown",
     "checksum": "4e41c3c86f65f63041c6630ae57472f7",
     "grade": false,
     "grade_id": "cell-21d56f6cb221cf63",
     "locked": true,
     "schema_version": 3,
     "solution": false,
     "task": false
    }
   },
   "source": [
    "Display the histogram for the ratio of employed with low wage. <br>\n",
    "**Hint**: use matplotlib to do this plot, and the variable 'df_wage', 'df_employed' that you extracted previously."
   ]
  },
  {
   "cell_type": "code",
   "execution_count": null,
   "metadata": {
    "deletable": false,
    "nbgrader": {
     "cell_type": "code",
     "checksum": "1a8253b1b3d0bd42f4351b17edc2bcdf",
     "grade": false,
     "grade_id": "cell-1caf4c0fa974197f",
     "locked": false,
     "schema_version": 3,
     "solution": true,
     "task": false
    }
   },
   "outputs": [],
   "source": [
    "# YOUR CODE HERE\n",
    "\n",
    "# YOUR CODE HERE\n",
    "raise NotImplementedError()"
   ]
  },
  {
   "cell_type": "markdown",
   "metadata": {
    "deletable": false,
    "editable": false,
    "nbgrader": {
     "cell_type": "markdown",
     "checksum": "74367536a6d63b04cf592ebe618f930c",
     "grade": false,
     "grade_id": "cell-f6487061d8bb41f5",
     "locked": true,
     "schema_version": 3,
     "solution": false,
     "task": false
    }
   },
   "source": [
    "Use subplot to display two figures.<br>\n",
    "The first figure is the histogram for the ratio of employed with low wage (like the previous cell).<br>\n",
    "The second figure is the same histogram but with 30 equal-width bins."
   ]
  },
  {
   "cell_type": "code",
   "execution_count": null,
   "metadata": {
    "deletable": false,
    "nbgrader": {
     "cell_type": "code",
     "checksum": "cf275831f31fc6923f46dd5d8abc72d0",
     "grade": false,
     "grade_id": "cell-d36fecee97e180f0",
     "locked": false,
     "schema_version": 3,
     "solution": true,
     "task": false
    }
   },
   "outputs": [],
   "source": [
    "# YOUR CODE HERE\n",
    "raise NotImplementedError()"
   ]
  },
  {
   "cell_type": "markdown",
   "metadata": {
    "deletable": false,
    "editable": false,
    "nbgrader": {
     "cell_type": "markdown",
     "checksum": "55061a0baab8942455a950c5a2267dcf",
     "grade": false,
     "grade_id": "cell-021b6c8d93c6fed8",
     "locked": true,
     "schema_version": 3,
     "solution": false,
     "task": false
    }
   },
   "source": [
    "Make the previous plot pretty. <br>\n",
    "Add one title by subfigure. Use two different colors for the two histograms. Add x and y labels. Display a vertical grid in the first sub-figure, and a horizontal grid on the second one. Remove the edges around the plot. <br>\n",
    "We will give a +1 bonus for very very cute plots!"
   ]
  },
  {
   "cell_type": "code",
   "execution_count": null,
   "metadata": {
    "deletable": false,
    "nbgrader": {
     "cell_type": "code",
     "checksum": "bf039dfb4c284ed301a1c6fc790e5000",
     "grade": true,
     "grade_id": "cell-0e0738d9263bbb86",
     "locked": false,
     "points": 3,
     "schema_version": 3,
     "solution": true,
     "task": false
    }
   },
   "outputs": [],
   "source": [
    "# YOUR CODE HERE\n",
    "\n",
    "# YOUR CODE HERE\n",
    "raise NotImplementedError()"
   ]
  },
  {
   "cell_type": "markdown",
   "metadata": {
    "deletable": false,
    "editable": false,
    "nbgrader": {
     "cell_type": "markdown",
     "checksum": "6284e2028dcf849e7ca083abcb1bfc99",
     "grade": false,
     "grade_id": "cell-c230125d1c7df160",
     "locked": true,
     "schema_version": 3,
     "solution": false,
     "task": false
    }
   },
   "source": [
    "## Part D (2 points)\n",
    "Based on the histogram that you displayed in the previous part, you should see some isolated extreme values.\n",
    "In this part, we will try to identify and understand these outliers."
   ]
  },
  {
   "cell_type": "markdown",
   "metadata": {
    "deletable": false,
    "editable": false,
    "nbgrader": {
     "cell_type": "markdown",
     "checksum": "b658180f92b81e851d89e1df609035c9",
     "grade": false,
     "grade_id": "cell-9388a85433a83fe0",
     "locked": true,
     "schema_version": 3,
     "solution": false,
     "task": false
    }
   },
   "source": [
    "Extract a dataframe containing the rows with the 10 highest median salaries."
   ]
  },
  {
   "cell_type": "code",
   "execution_count": null,
   "metadata": {
    "deletable": false,
    "nbgrader": {
     "cell_type": "code",
     "checksum": "b6c5dbc8d17c15f432fdb05626149328",
     "grade": false,
     "grade_id": "cell-053de464e1e1e944",
     "locked": false,
     "schema_version": 3,
     "solution": true,
     "task": false
    }
   },
   "outputs": [],
   "source": [
    "# top_10 = ...\n",
    "\n",
    "# YOUR CODE HERE\n",
    "\n",
    "# YOUR CODE HERE\n",
    "raise NotImplementedError()"
   ]
  },
  {
   "cell_type": "markdown",
   "metadata": {
    "deletable": false,
    "editable": false,
    "nbgrader": {
     "cell_type": "markdown",
     "checksum": "60c876b4d743f50d364e44614c16ca18",
     "grade": false,
     "grade_id": "cell-b6de159ad0683d9b",
     "locked": true,
     "schema_version": 3,
     "solution": false,
     "task": false
    }
   },
   "source": [
    "From the Major with top 10 median salary, display the median, the 25th and 75th percentiles on a bar plot.<br>\n",
    "**Hint**: use the attribute 'kind' in the pandas plot function."
   ]
  },
  {
   "cell_type": "code",
   "execution_count": null,
   "metadata": {
    "deletable": false,
    "editable": false,
    "nbgrader": {
     "cell_type": "code",
     "checksum": "00737061a596dc3414d5fea90f6ba78d",
     "grade": true,
     "grade_id": "cell-7303c8f3fd12b522",
     "locked": true,
     "points": 1,
     "schema_version": 3,
     "solution": false,
     "task": false
    }
   },
   "outputs": [],
   "source": [
    "assert_equal(type(top_10), pd.core.frame.DataFrame)"
   ]
  },
  {
   "cell_type": "code",
   "execution_count": null,
   "metadata": {
    "deletable": false,
    "nbgrader": {
     "cell_type": "code",
     "checksum": "3f34b4e2d92f9db8ecd9efdafde348b2",
     "grade": false,
     "grade_id": "cell-97fda96bd4b5fa3e",
     "locked": false,
     "schema_version": 3,
     "solution": true,
     "task": false
    }
   },
   "outputs": [],
   "source": [
    "# YOUR CODE HERE\n",
    "\n",
    "# YOUR CODE HERE\n",
    "raise NotImplementedError()"
   ]
  },
  {
   "cell_type": "markdown",
   "metadata": {
    "deletable": false,
    "editable": false,
    "nbgrader": {
     "cell_type": "markdown",
     "checksum": "0cd39905836ac7c41441d1716759053a",
     "grade": false,
     "grade_id": "cell-80417b2911c6be23",
     "locked": true,
     "schema_version": 3,
     "solution": false,
     "task": false
    }
   },
   "source": [
    "We can also plot the histogram for a specific category. Display the histogram of the median salary for the Major with category \"Engineering\"."
   ]
  },
  {
   "cell_type": "code",
   "execution_count": null,
   "metadata": {
    "deletable": false,
    "nbgrader": {
     "cell_type": "code",
     "checksum": "aeeed6b5fb260f01e810a648f59afaf9",
     "grade": true,
     "grade_id": "cell-f89fca6713c753e0",
     "locked": false,
     "points": 1,
     "schema_version": 3,
     "solution": true,
     "task": false
    }
   },
   "outputs": [],
   "source": [
    "# YOUR CODE HERE\n",
    "\n",
    "# YOUR CODE HERE\n",
    "raise NotImplementedError()"
   ]
  },
  {
   "cell_type": "markdown",
   "metadata": {
    "deletable": false,
    "editable": false,
    "nbgrader": {
     "cell_type": "markdown",
     "checksum": "9fe194dac4c2a0bf6b81ba135019267f",
     "grade": false,
     "grade_id": "cell-fd8a27f21df4d675",
     "locked": true,
     "schema_version": 3,
     "solution": false,
     "task": false
    }
   },
   "source": [
    "## Part E\n",
    "Let's now see if we can infer the correlation between two factors using scatter plots."
   ]
  },
  {
   "cell_type": "markdown",
   "metadata": {
    "deletable": false,
    "editable": false,
    "nbgrader": {
     "cell_type": "markdown",
     "checksum": "47b86fea79db4c88183ea8171f28e7c7",
     "grade": false,
     "grade_id": "cell-1c97f9dc357e99d8",
     "locked": true,
     "schema_version": 3,
     "solution": false,
     "task": false
    }
   },
   "source": [
    "Display the median salary against the unemployment rate on a scatter plot.<br>\n",
    "**Hint**: use once again the attribute 'kind' from the pandas plot function."
   ]
  },
  {
   "cell_type": "code",
   "execution_count": null,
   "metadata": {
    "deletable": false,
    "nbgrader": {
     "cell_type": "code",
     "checksum": "32e0bf0148a13e7b63907e25f5c497b5",
     "grade": false,
     "grade_id": "cell-952575fb38116382",
     "locked": false,
     "schema_version": 3,
     "solution": true,
     "task": false
    }
   },
   "outputs": [],
   "source": [
    "# YOUR CODE HERE\n",
    "\n",
    "# YOUR CODE HERE\n",
    "raise NotImplementedError()"
   ]
  },
  {
   "cell_type": "markdown",
   "metadata": {
    "deletable": false,
    "editable": false,
    "nbgrader": {
     "cell_type": "markdown",
     "checksum": "aa0ef90f2fc1824464283243700786ac",
     "grade": false,
     "grade_id": "cell-9a63a7000ffd8909",
     "locked": true,
     "schema_version": 3,
     "solution": false,
     "task": false
    }
   },
   "source": [
    "Do the same plot using matplotib.<br>\n",
    "**Hint**: You can use function plt.plot() or plt.scatter()"
   ]
  },
  {
   "cell_type": "code",
   "execution_count": null,
   "metadata": {
    "deletable": false,
    "nbgrader": {
     "cell_type": "code",
     "checksum": "7e0386c426dc61e96ecea4fff8a9b259",
     "grade": false,
     "grade_id": "cell-981687c0b197b302",
     "locked": false,
     "schema_version": 3,
     "solution": true,
     "task": false
    }
   },
   "outputs": [],
   "source": [
    "# YOUR CODE HERE\n",
    "\n",
    "# YOUR CODE HERE\n",
    "raise NotImplementedError()"
   ]
  },
  {
   "cell_type": "markdown",
   "metadata": {
    "deletable": false,
    "editable": false,
    "nbgrader": {
     "cell_type": "markdown",
     "checksum": "18336b9dcd9b7d03c8dc3c6fab0890ee",
     "grade": false,
     "grade_id": "cell-396e26035fa5e713",
     "locked": true,
     "schema_version": 3,
     "solution": false,
     "task": false
    }
   },
   "source": [
    "## Part F (4 points, +1)\n",
    "In this part, we will now see how to analyze and visualize categorical data."
   ]
  },
  {
   "cell_type": "markdown",
   "metadata": {
    "deletable": false,
    "editable": false,
    "nbgrader": {
     "cell_type": "markdown",
     "checksum": "eb9321db4164e5c06da379abf593f1e0",
     "grade": false,
     "grade_id": "cell-cca9bf98d94dc08f",
     "locked": true,
     "schema_version": 3,
     "solution": false,
     "task": false
    }
   },
   "source": [
    "We want to count how many students there are per category. <br>\n",
    "Extract the different categories (column \"Major_category\") and display them on an **horizontal** bar plot.<br>\n",
    "Sum up the number of students in each category (column \"Total\"). <br>\n",
    "**Hint**: use once again the attribute 'kind' from the pandas plot function."
   ]
  },
  {
   "cell_type": "code",
   "execution_count": null,
   "metadata": {
    "deletable": false,
    "nbgrader": {
     "cell_type": "code",
     "checksum": "22201d9a5526a1b0d171874bfb0b78f2",
     "grade": false,
     "grade_id": "cell-762e561165e3b73b",
     "locked": false,
     "schema_version": 3,
     "solution": true,
     "task": false
    }
   },
   "outputs": [],
   "source": [
    "# cat_totals = ...\n",
    "\n",
    "# YOUR CODE HERE\n",
    "\n",
    "# YOUR CODE HERE\n",
    "raise NotImplementedError()"
   ]
  },
  {
   "cell_type": "code",
   "execution_count": null,
   "metadata": {
    "deletable": false,
    "editable": false,
    "nbgrader": {
     "cell_type": "code",
     "checksum": "599930990b3957f17024214784da2d24",
     "grade": true,
     "grade_id": "cell-3a6e2c5cf797488e",
     "locked": true,
     "points": 2,
     "schema_version": 3,
     "solution": false,
     "task": false
    }
   },
   "outputs": [],
   "source": [
    "assert_equal(len(cat_totals),16)\n",
    "assert_equal(cat_totals[\"Interdisciplinary\"],12296)\n",
    "assert_equal(cat_totals[\"Engineering\"],537583)"
   ]
  },
  {
   "cell_type": "markdown",
   "metadata": {
    "deletable": false,
    "editable": false,
    "nbgrader": {
     "cell_type": "markdown",
     "checksum": "8e5201a4e7150de0deb01fe7a69c1668",
     "grade": false,
     "grade_id": "cell-5f019bed015236af",
     "locked": true,
     "schema_version": 3,
     "solution": false,
     "task": false
    }
   },
   "source": [
    "Vertical and horizontal bar charts are often a good choice if you want to see the difference between your categories. If you’re interested in ratios, then pie plots are a good tool. However, since cat_totals contains a few smaller categories, creating a pie plot with cat_totals.plot(kind=\"pie\") will produce several tiny slices with overlapping labels."
   ]
  },
  {
   "cell_type": "code",
   "execution_count": null,
   "metadata": {
    "deletable": false,
    "nbgrader": {
     "cell_type": "code",
     "checksum": "4acb98e273d1b34d6aa6e2acbf154878",
     "grade": false,
     "grade_id": "cell-0c027c0577c89787",
     "locked": false,
     "schema_version": 3,
     "solution": true,
     "task": false
    }
   },
   "outputs": [],
   "source": [
    "# YOUR CODE HERE\n",
    "raise NotImplementedError()"
   ]
  },
  {
   "cell_type": "markdown",
   "metadata": {
    "deletable": false,
    "editable": false,
    "nbgrader": {
     "cell_type": "markdown",
     "checksum": "f40710e55767e6ae02925ae42052ce2b",
     "grade": false,
     "grade_id": "cell-ec3984ad0c37f114",
     "locked": true,
     "schema_version": 3,
     "solution": false,
     "task": false
    }
   },
   "source": [
    "To address this problem, we will see how to merge the smaller categories into a single group. <br>\n",
    "First, separate the data in two groups, depending on the number of occurence. The small group should contain all major category that have less than 200,000 individual. <br>\n",
    "Make sure that the variable containing all the small groups is named \"small_cat_totals\"."
   ]
  },
  {
   "cell_type": "code",
   "execution_count": null,
   "metadata": {
    "deletable": false,
    "nbgrader": {
     "cell_type": "code",
     "checksum": "069102900e65c3aa6b03a5ac93a56688",
     "grade": false,
     "grade_id": "cell-de85dfc4feaed5ab",
     "locked": false,
     "schema_version": 3,
     "solution": true,
     "task": false
    }
   },
   "outputs": [],
   "source": [
    "# small_cat_totals = ...\n",
    "# big_cat_totals = ...\n",
    "\n",
    "# YOUR CODE HERE\n",
    "\n",
    "# YOUR CODE HERE\n",
    "raise NotImplementedError()"
   ]
  },
  {
   "cell_type": "markdown",
   "metadata": {
    "deletable": false,
    "editable": false,
    "nbgrader": {
     "cell_type": "markdown",
     "checksum": "7ef4b51aae07b1b0c7ce3d1375e49cad",
     "grade": false,
     "grade_id": "cell-d0b1dd2e88dc2c52",
     "locked": true,
     "schema_version": 3,
     "solution": false,
     "task": false
    }
   },
   "source": [
    "Merge all small categories into a single one."
   ]
  },
  {
   "cell_type": "code",
   "execution_count": null,
   "metadata": {
    "deletable": false,
    "nbgrader": {
     "cell_type": "code",
     "checksum": "ee5d748fca9ba331dcfa22495efedc4a",
     "grade": false,
     "grade_id": "cell-0a0cc089c61d3e0c",
     "locked": false,
     "schema_version": 3,
     "solution": true,
     "task": false
    }
   },
   "outputs": [],
   "source": [
    "# small_sums = pd.Series(..., index=[\"Other\"])\n",
    "\n",
    "# YOUR CODE HERE\n",
    "\n",
    "# YOUR CODE HERE\n",
    "raise NotImplementedError()"
   ]
  },
  {
   "cell_type": "code",
   "execution_count": null,
   "metadata": {
    "deletable": false,
    "editable": false,
    "nbgrader": {
     "cell_type": "code",
     "checksum": "d0b67d5fb06aea78305da5b5cf28dac2",
     "grade": true,
     "grade_id": "cell-40a3e78a7696fbf1",
     "locked": true,
     "points": 2,
     "schema_version": 3,
     "solution": false,
     "task": false
    }
   },
   "outputs": [],
   "source": [
    "assert_equal(small_cat_totals[\"Agriculture & Natural Resources\"], 75620)\n",
    "assert_equal(small_cat_totals[\"Interdisciplinary\"], 12296)"
   ]
  },
  {
   "cell_type": "markdown",
   "metadata": {
    "deletable": false,
    "editable": false,
    "nbgrader": {
     "cell_type": "markdown",
     "checksum": "b63647389182616fb7180ec15248fde7",
     "grade": false,
     "grade_id": "cell-76fec52a1a2d657f",
     "locked": true,
     "schema_version": 3,
     "solution": false,
     "task": false
    }
   },
   "source": [
    "Add the \"other\" category to the \"big_cat_totals\" dataframe. Display the new pie chart. <br>\n",
    "**Hint**: you can use \"pd.concat(...)\" to concatenate two elements."
   ]
  },
  {
   "cell_type": "code",
   "execution_count": null,
   "metadata": {
    "deletable": false,
    "nbgrader": {
     "cell_type": "code",
     "checksum": "6a22ea33d8a3d0f74cac44672b4bca8f",
     "grade": false,
     "grade_id": "cell-bee4117ea34fb564",
     "locked": false,
     "schema_version": 3,
     "solution": true,
     "task": false
    }
   },
   "outputs": [],
   "source": [
    "# YOUR CODE HERE\n",
    "\n",
    "# YOUR CODE HERE\n",
    "raise NotImplementedError()"
   ]
  },
  {
   "cell_type": "markdown",
   "metadata": {
    "deletable": false,
    "editable": false,
    "nbgrader": {
     "cell_type": "markdown",
     "checksum": "eff81615a7178a176bf6940f5a2327a2",
     "grade": false,
     "grade_id": "cell-d590fc79cdc73569",
     "locked": true,
     "schema_version": 3,
     "solution": false,
     "task": false
    }
   },
   "source": [
    "What is the problem of this pie chart? Is the category other well chosen?"
   ]
  },
  {
   "cell_type": "markdown",
   "metadata": {
    "deletable": false,
    "nbgrader": {
     "cell_type": "markdown",
     "checksum": "6612fad7862266fcfdcfa9cb92970cbb",
     "grade": true,
     "grade_id": "cell-a84c420b1aac4032",
     "locked": false,
     "points": 0,
     "schema_version": 3,
     "solution": true,
     "task": false
    }
   },
   "source": [
    "YOUR ANSWER HERE"
   ]
  },
  {
   "cell_type": "markdown",
   "metadata": {
    "deletable": false,
    "editable": false,
    "nbgrader": {
     "cell_type": "markdown",
     "checksum": "e85b33528a0671844cb19fcbff4cf393",
     "grade": false,
     "grade_id": "cell-3a4d3598a0c232d3",
     "locked": true,
     "schema_version": 3,
     "solution": false,
     "task": false
    }
   },
   "source": [
    "Can you propose a better way to visualize this information (other than with a pie chart)?"
   ]
  },
  {
   "cell_type": "markdown",
   "metadata": {
    "deletable": false,
    "nbgrader": {
     "cell_type": "markdown",
     "checksum": "773d18dab2bb9136315f35154ca0f0b2",
     "grade": true,
     "grade_id": "cell-b346c4cc72dfe43a",
     "locked": false,
     "points": 0,
     "schema_version": 3,
     "solution": true,
     "task": false
    }
   },
   "source": [
    "YOUR ANSWER HERE"
   ]
  }
 ],
 "metadata": {
  "kernelspec": {
   "display_name": "Python 3 (ipykernel)",
   "language": "python",
   "name": "python3"
  },
  "language_info": {
   "codemirror_mode": {
    "name": "ipython",
    "version": 3
   },
   "file_extension": ".py",
   "mimetype": "text/x-python",
   "name": "python",
   "nbconvert_exporter": "python",
   "pygments_lexer": "ipython3",
   "version": "3.8.11"
  }
 },
 "nbformat": 4,
 "nbformat_minor": 1
}
