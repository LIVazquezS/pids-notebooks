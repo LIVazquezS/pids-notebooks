{
 "cells": [
  {
   "cell_type": "markdown",
   "id": "4e5cba00",
   "metadata": {},
   "source": [
    "# Exercise sheet 7\n",
    "**Hello everyone!**\n",
    "\n",
    "**This exercise sheet is UNGRADED!**\n",
    "\n",
    "Topics of this exercise sheet are:\n",
    "* Probabilities\n",
    "* Law of large numbers\n",
    "* Central limit theorem\n",
    "\n",
    "Please let us know if you have questions or problems! <br>\n",
    "Contact us during the exercise session, on [ADAM](https://adam.unibas.ch/goto_adam_crs_1266890.html), [Piazza](https://piazza.com/class/kzy15kp8s5t6ku), or [via email](https://sada.dmi.unibas.ch/en/teaching/pids22).\n",
    "\n",
    "This exercise sheet doesn't need to be submited. However, we encourage you to be extra serious on this sheet since it illustrate very important results.\n",
    "\n",
    "**Discussion date**: 2022/04/26"
   ]
  },
  {
   "cell_type": "code",
   "execution_count": null,
   "id": "19958871",
   "metadata": {},
   "outputs": [],
   "source": [
    "import numpy as np\n",
    "import matplotlib.pyplot as plt\n",
    "from nose.tools import assert_is_instance, assert_equal, assert_almost_equal, assert_true\n",
    "from scipy.stats import bernoulli"
   ]
  },
  {
   "cell_type": "markdown",
   "id": "63bebafe",
   "metadata": {},
   "source": [
    "## Central limit theorem\n",
    "The central limit theorem is a key results of practical importance for data scientists. In this first part, we will work around this result to better understand it."
   ]
  },
  {
   "cell_type": "markdown",
   "id": "ea8b2981",
   "metadata": {},
   "source": [
    "### Toss a coin (again)\n",
    "Let's start with the simplest statistical example, the toss of a coin. We simulate the toss using the generation of a Bernoulli random variable in the library scipy."
   ]
  },
  {
   "cell_type": "code",
   "execution_count": null,
   "id": "3f62ff08",
   "metadata": {},
   "outputs": [],
   "source": [
    "toss_coin = bernoulli.rvs(p=0.5,size=100)    "
   ]
  },
  {
   "cell_type": "markdown",
   "id": "8d9c298b",
   "metadata": {},
   "source": [
    "Display the empirical distribution (histogram) of the result of this experiment."
   ]
  },
  {
   "cell_type": "code",
   "execution_count": null,
   "id": "d665f8bd",
   "metadata": {
    "deletable": false,
    "nbgrader": {
     "cell_type": "code",
     "checksum": "2b839821c987c6cbbebcf8214a8fd13f",
     "grade": false,
     "grade_id": "cell-85f0aa24377f6a04",
     "locked": false,
     "schema_version": 3,
     "solution": true,
     "task": false
    }
   },
   "outputs": [],
   "source": [
    "# YOUR CODE HERE\n",
    "raise NotImplementedError()"
   ]
  },
  {
   "cell_type": "markdown",
   "id": "b6637bd5",
   "metadata": {},
   "source": [
    "Reproduce this experiment $N=1000$ times. Store the result in an array *toss_coin_all* of size (1000,100)."
   ]
  },
  {
   "cell_type": "code",
   "execution_count": null,
   "id": "5e2bcb3a",
   "metadata": {
    "deletable": false,
    "nbgrader": {
     "cell_type": "code",
     "checksum": "cced7959497982dfb348ab43d2247e5b",
     "grade": false,
     "grade_id": "cell-9faaf668e859520f",
     "locked": false,
     "schema_version": 3,
     "solution": true,
     "task": false
    }
   },
   "outputs": [],
   "source": [
    "N=1000\n",
    "toss_coin_all = np.zeros((N,100))\n",
    "# YOUR CODE HERE\n",
    "raise NotImplementedError()"
   ]
  },
  {
   "cell_type": "markdown",
   "id": "fea8a72a",
   "metadata": {},
   "source": [
    "For each of the $N=1000$ experiment, compute the sum of the obtained values. <br>\n",
    "Then, display the histogram of this result. Does it look like an empirical Gaussian distribution?"
   ]
  },
  {
   "cell_type": "code",
   "execution_count": null,
   "id": "d74dc951",
   "metadata": {
    "deletable": false,
    "nbgrader": {
     "cell_type": "code",
     "checksum": "8acd28a30134eefa35923d62303e472c",
     "grade": false,
     "grade_id": "cell-43a0a0442ecf9f4c",
     "locked": false,
     "schema_version": 3,
     "solution": true,
     "task": false
    }
   },
   "outputs": [],
   "source": [
    "# YOUR CODE HERE\n",
    "raise NotImplementedError()"
   ]
  },
  {
   "cell_type": "markdown",
   "id": "9e4cc0ae",
   "metadata": {},
   "source": [
    "Display the continuous density function (cdf) of a Gaussian random variable. You can use the library scipy and the example in this webpage: https://docs.scipy.org/doc/scipy/reference/generated/scipy.stats.norm.html."
   ]
  },
  {
   "cell_type": "code",
   "execution_count": null,
   "id": "9b7ae2c5",
   "metadata": {
    "deletable": false,
    "nbgrader": {
     "cell_type": "code",
     "checksum": "d37bc25ab3fb25ad6f4a254f49b95b76",
     "grade": false,
     "grade_id": "cell-78fc29e914b773a4",
     "locked": false,
     "schema_version": 3,
     "solution": true,
     "task": false
    }
   },
   "outputs": [],
   "source": [
    "from scipy.stats import norm\n",
    "# YOUR CODE HERE\n",
    "raise NotImplementedError()"
   ]
  },
  {
   "cell_type": "markdown",
   "id": "1f2c4a1c",
   "metadata": {},
   "source": [
    "Display the empirical distribution of the sum of tossed coins and the cdf of the Gaussian random variable. Use the proper normalization such that the Central Limit Theorem applies.<br>\n",
    "Don't forget to do a nice plot!"
   ]
  },
  {
   "cell_type": "code",
   "execution_count": null,
   "id": "1de74276",
   "metadata": {
    "deletable": false,
    "nbgrader": {
     "cell_type": "code",
     "checksum": "479242dfc88f813832f9957f75157938",
     "grade": false,
     "grade_id": "cell-ff2129147845b03d",
     "locked": false,
     "schema_version": 3,
     "solution": true,
     "task": false
    }
   },
   "outputs": [],
   "source": [
    "# YOUR CODE HERE\n",
    "raise NotImplementedError()"
   ]
  },
  {
   "cell_type": "markdown",
   "id": "56d21a27",
   "metadata": {},
   "source": [
    "What happen if $N$ is now larger than 1000? Try with different N! (no need to write a nice answer here, just change the value one or two times to see what is happening)."
   ]
  },
  {
   "cell_type": "code",
   "execution_count": null,
   "id": "625d674f",
   "metadata": {},
   "outputs": [],
   "source": []
  },
  {
   "cell_type": "markdown",
   "id": "9e3fdb4a",
   "metadata": {},
   "source": [
    "## Law of large numbers (LLN)\n",
    "The LLN is also a key tool used by all data scientists. This principle is the basis of what is called Monte Carlo simulation. <br>\n",
    "In this paragraph, we will use this result to estimate the mean of a Poisson random variable."
   ]
  },
  {
   "cell_type": "markdown",
   "id": "348390a2",
   "metadata": {},
   "source": [
    "Using the scipy library, display the density function of the Poisson distribution for $\\lambda=5$, https://docs.scipy.org/doc/scipy/reference/generated/scipy.stats.poisson.html."
   ]
  },
  {
   "cell_type": "code",
   "execution_count": null,
   "id": "ede67f3f",
   "metadata": {
    "deletable": false,
    "nbgrader": {
     "cell_type": "code",
     "checksum": "ff794a4e0ae6646850278bfc71963783",
     "grade": false,
     "grade_id": "cell-5187511bc27d80b6",
     "locked": false,
     "schema_version": 3,
     "solution": true,
     "task": false
    }
   },
   "outputs": [],
   "source": [
    "from scipy.stats import poisson\n",
    "lam = 3\n",
    "# YOUR CODE HERE\n",
    "raise NotImplementedError()"
   ]
  },
  {
   "cell_type": "markdown",
   "id": "7b63c841",
   "metadata": {},
   "source": [
    "Generate $N=10000$ independent Poisson random variables and display the empirical mean when using only $1,2,3,...,10000$ realizations. Compare with the true mean."
   ]
  },
  {
   "cell_type": "code",
   "execution_count": null,
   "id": "b21154e7",
   "metadata": {
    "deletable": false,
    "nbgrader": {
     "cell_type": "code",
     "checksum": "62ae80859ad130c2f055ec0d30851e53",
     "grade": false,
     "grade_id": "cell-786d4f2af8ee5398",
     "locked": false,
     "schema_version": 3,
     "solution": true,
     "task": false
    }
   },
   "outputs": [],
   "source": [
    "N = 10000\n",
    "# YOUR CODE HERE\n",
    "raise NotImplementedError()"
   ]
  },
  {
   "cell_type": "markdown",
   "id": "a6c1c22a",
   "metadata": {},
   "source": [
    "It is rather hard to see if the empirical mean is close to the true one. Display the absolute error between the emprical and the true mean against the number of sample used. Use a log scale (for the error)."
   ]
  },
  {
   "cell_type": "code",
   "execution_count": null,
   "id": "1ab37217",
   "metadata": {
    "deletable": false,
    "nbgrader": {
     "cell_type": "code",
     "checksum": "961402268bdca60f12c1ebb82ecc8a4f",
     "grade": false,
     "grade_id": "cell-7942b6a67e959773",
     "locked": false,
     "schema_version": 3,
     "solution": true,
     "task": false
    }
   },
   "outputs": [],
   "source": [
    "# YOUR CODE HERE\n",
    "raise NotImplementedError()"
   ]
  },
  {
   "cell_type": "markdown",
   "id": "b156928b",
   "metadata": {},
   "source": [
    "## Monte Carlo simulation"
   ]
  },
  {
   "cell_type": "markdown",
   "id": "c4e8dad7",
   "metadata": {},
   "source": [
    "Did you notice that the previous plots change every time you run again the cells?\n",
    "This is because the average mean that we compute is still a random estimation. For some realization it may be close to the true mean, for other it may be far. <br>\n",
    "To get a clear conclusion, we might want to know what is happening in average, what is the average behaviour of this estimator. <br>\n",
    "<br>\n",
    "To do so, we will do a Monte Carlo simulation, i.e. reproduce the previous experiment several times and compute the average error.<br>\n",
    "Compute and store the absolute error between the average means (using $1,2,3,... 10000$ samples) and the true mean. Reproduce this experiment $M=100$ times, and display the average error. <br>\n",
    "Hint: for a better display, you can display ony error for $100, 101, ... 10000$ samples.\n"
   ]
  },
  {
   "cell_type": "code",
   "execution_count": null,
   "id": "d166eb7d",
   "metadata": {
    "deletable": false,
    "nbgrader": {
     "cell_type": "code",
     "checksum": "c59dbe230eb055fee380cf8e56dd3254",
     "grade": false,
     "grade_id": "cell-45781b77bc7ed15b",
     "locked": false,
     "schema_version": 3,
     "solution": true,
     "task": false
    }
   },
   "outputs": [],
   "source": [
    "M = 100\n",
    "err_abs = np.zeros((M,N))\n",
    "# YOUR CODE HERE\n",
    "raise NotImplementedError()"
   ]
  },
  {
   "cell_type": "markdown",
   "id": "8f957f51",
   "metadata": {},
   "source": [
    "Notice that the plot is not changing much (as in the begining of the LLN paragraph) every time you run the code. This is (maybe) your first Monte Carlo simulation!"
   ]
  },
  {
   "cell_type": "markdown",
   "id": "abe23133",
   "metadata": {},
   "source": [
    "We saw in this notebook that by reproducing a large number of time the same experiment, we are able to estimate information about the observation, such as the distribution of the mean of some quantities. However, in many practical situations, it is impossible to have acces to a very large amount of data. In the following of the course you will see that we can construct confidence interval from the observations. This tool will be key to known either or not we can trust the result obtained with a limited amount of data."
   ]
  },
  {
   "cell_type": "markdown",
   "id": "540fded5",
   "metadata": {},
   "source": [
    "## Bonus: confidence interval (spoiler of next lecture)\n",
    "A wise man said: \"the main difference between good and bad data scientists is that the good ones understand and use confidence intervals in their reports\". So let's see if we can have a confidence bound around the previous estimator."
   ]
  },
  {
   "cell_type": "markdown",
   "id": "87d4bc3d",
   "metadata": {},
   "source": [
    "Changing only one line in the previous question, display the average estimation of the mean of the random variables over the $M=100$ Monte Carlo simulation.<br>\n",
    "Compute also the empirical standard deviation (std) of the observed random variables (you can compute only the std of the $N=10000$ random variables).<br>\n",
    "Let $(X_{n,m})_{1\\leq n \\leq N,1\\leq m \\leq M} \\overset{i.i.d.}{\\sim} \\mathrm{Poisson}(\\lambda)$ denote the observed random variables.\n",
    "\n",
    "Let $\\hat\\mu_{n,m} = \\sum_{i=1}^n X_{i,m}$ denote the empirical mean, and $\\hat\\sigma_{n,m} = \\sqrt{\\sum_{i=1}^n (X_{i,m}-\\hat\\mu_n)^2}$the empirical standard deviation. Finally, we compute: $\\hat\\mu_n = \\frac{1}{M}\\sum_{m=1}^M \\hat \\mu_{n,m}$ the Monte Carlo empirical mean, and $\\hat\\sigma_n = \\frac{1}{M}\\sum_{m=1}^M \\hat \\sigma_{n,m}$ the Monte Carlo empirical standard deviation. The sum over $m$ corresponds to the Monte Carlo averaging.<br>\n",
    "What happen if you also plot $\\hat\\mu_n + 3\\hat\\sigma_n$ and $\\hat\\mu_n - 3\\hat\\sigma_n$? "
   ]
  },
  {
   "cell_type": "code",
   "execution_count": null,
   "id": "74432bc3",
   "metadata": {
    "deletable": false,
    "nbgrader": {
     "cell_type": "code",
     "checksum": "274743bcbc5868f5194e364c8184b643",
     "grade": false,
     "grade_id": "cell-5b8dd57d8bd65060",
     "locked": false,
     "schema_version": 3,
     "solution": true,
     "task": false
    }
   },
   "outputs": [],
   "source": [
    "M = 100\n",
    "err_abs = np.zeros((M,N))\n",
    "std_est = np.zeros(M)\n",
    "# YOUR CODE HERE\n",
    "raise NotImplementedError()"
   ]
  },
  {
   "cell_type": "markdown",
   "id": "70a45f85",
   "metadata": {},
   "source": [
    "The values $\\hat\\mu_n + 3\\hat\\sigma_n$ and $\\hat\\mu_n - 3\\hat\\sigma_n$ looks like a more an more precise interval around the estimation of the mean.<br>\n",
    "Display each realization of the Monte Carlo simulation (the $M$ quantities $\\hat \\mu_{n,m}$)."
   ]
  },
  {
   "cell_type": "code",
   "execution_count": null,
   "id": "0d1cefcf",
   "metadata": {
    "deletable": false,
    "nbgrader": {
     "cell_type": "code",
     "checksum": "ae3ce38a8c75151e58efbc9c805166df",
     "grade": false,
     "grade_id": "cell-6a190fd3ad19f790",
     "locked": false,
     "schema_version": 3,
     "solution": true,
     "task": false
    }
   },
   "outputs": [],
   "source": [
    "M = 100\n",
    "err_abs = np.zeros((M,N))\n",
    "std_est = np.zeros(M)\n",
    "# YOUR CODE HERE\n",
    "raise NotImplementedError()"
   ]
  },
  {
   "cell_type": "markdown",
   "id": "9d26b549",
   "metadata": {},
   "source": [
    "What seems to be the property of $\\hat\\mu_n + 3\\hat\\sigma_n$ and $\\hat\\mu_n - 3\\hat\\sigma_n$? <br>\n",
    "Mathematical justification will be part of April 26' lecture!"
   ]
  },
  {
   "cell_type": "markdown",
   "id": "ac39d866",
   "metadata": {},
   "source": []
  }
 ],
 "metadata": {
  "kernelspec": {
   "display_name": "Python 3 (ipykernel)",
   "language": "python",
   "name": "python3"
  },
  "language_info": {
   "codemirror_mode": {
    "name": "ipython",
    "version": 3
   },
   "file_extension": ".py",
   "mimetype": "text/x-python",
   "name": "python",
   "nbconvert_exporter": "python",
   "pygments_lexer": "ipython3",
   "version": "3.8.11"
  }
 },
 "nbformat": 4,
 "nbformat_minor": 5
}
