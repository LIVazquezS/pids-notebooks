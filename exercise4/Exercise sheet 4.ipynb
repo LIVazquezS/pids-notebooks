{
 "cells": [
  {
   "cell_type": "markdown",
   "id": "143da206-855c-4e76-b521-5a04ea36c809",
   "metadata": {},
   "source": [
    "# Exercise sheet 4\n",
    "**Hello everyone!**\n",
    "\n",
    "**Points: 15**\n",
    "\n",
    "Topics of this exercise sheet are:\n",
    "* Working with seaborn\n",
    "* Data visualization principles\n",
    "\n",
    "Please let us know if you have questions or problems! <br>\n",
    "Contact us during the exercise session, on [ADAM](https://adam.unibas.ch/goto_adam_crs_1266890.html), [Piazza](https://piazza.com/class/kzy15kp8s5t6ku), or [via email](https://sada.dmi.unibas.ch/en/teaching/pids22).\n",
    "\n",
    "Please submit this exercise sheet on **ADAM**.\n",
    "Naming conventions:\n",
    "* Name of notebook: \"Exercise sheet 4.ipynb\"\n",
    "* Please put it in a folder structure like this: \"your_unibas_short_name/Exercise4/Exercise sheet 4.ipynb\"\n",
    "* You can find your unibas short name either...\n",
    "    * by looking at the filename of the feedback on exercise sheet 2 (from ADAM)\n",
    "    * or if you didn't submit exercise sheet 2, log in to viaweb.unibas.ch and you will see your unibas short name after the welcome message\n",
    "* Then zip this folder and upload it on ADAM.\n",
    "\n",
    "**Handout date**: 2022/03/28 <br>\n",
    "**Submission date**: 2022/04/04 <br>\n",
    "**Discussion date**: 2022/04/05"
   ]
  },
  {
   "cell_type": "code",
   "execution_count": null,
   "id": "31e9f01a-6c24-471c-be23-a6b5ea19df84",
   "metadata": {},
   "outputs": [],
   "source": [
    "import pandas as pd\n",
    "import seaborn as sns\n",
    "import matplotlib.pyplot as plt\n",
    "import numpy as np\n",
    "from nose.tools import assert_is_instance, assert_equal, assert_almost_equal, assert_true"
   ]
  },
  {
   "cell_type": "markdown",
   "id": "c39cd4ed-52b7-49ae-988e-9a4973537725",
   "metadata": {},
   "source": [
    "## 1 (5 points)\n",
    "\n",
    "### 1a (1 point)\n",
    "We will use data from [Kaggle](https://www.kaggle.com/datasets/prasertk/healthy-lifestyle-cities-report-2021) about different cities around the world."
   ]
  },
  {
   "cell_type": "code",
   "execution_count": null,
   "id": "dde183f1-005c-4071-ab43-441c8d947b44",
   "metadata": {},
   "outputs": [],
   "source": [
    "cities = pd.read_csv(\"healthy_lifestyle_city_2021.csv\")\n",
    "cities.head()"
   ]
  },
  {
   "cell_type": "markdown",
   "id": "0977ed19",
   "metadata": {},
   "source": [
    "First, let's clean this data a little.\n",
    "* Replace the values in \"Cost of a bottle of water(City)\", \"Sunshine hours(City)\" and \"Cost of a monthly gym membership(City)\" with numerical values (hint: use the pandas functions .str and .as_type())\n",
    "* Replace the values in \"Obesity levels(Country)\" to be numerical values. A value \"20.40%\" should be converted to \"0.204\"."
   ]
  },
  {
   "cell_type": "code",
   "execution_count": null,
   "id": "fa7cfbe0-4f38-49d0-ac1f-e5fa5a6060b2",
   "metadata": {
    "deletable": false,
    "nbgrader": {
     "cell_type": "code",
     "checksum": "530c604fc420a90664a3323be39bb23e",
     "grade": false,
     "grade_id": "cell-67e48526cb3d882c",
     "locked": false,
     "schema_version": 3,
     "solution": true,
     "task": false
    }
   },
   "outputs": [],
   "source": [
    "# YOUR CODE HERE\n",
    "raise NotImplementedError()"
   ]
  },
  {
   "cell_type": "code",
   "execution_count": null,
   "id": "0128cd61",
   "metadata": {
    "deletable": false,
    "editable": false,
    "nbgrader": {
     "cell_type": "code",
     "checksum": "0f09644e2f1c171465ace178358d291b",
     "grade": true,
     "grade_id": "cell-424c1572d1adec05",
     "locked": true,
     "points": 1,
     "schema_version": 3,
     "solution": false,
     "task": false
    }
   },
   "outputs": [],
   "source": [
    "assert_is_instance(cities, pd.DataFrame)\n",
    "assert_equal(len(cities), 44)\n",
    "assert_almost_equal(cities.loc[(cities[\"City\"] == \"Vienna\")][\"Sunshine hours(City)\"].values[0], 1884.0)\n",
    "assert_almost_equal(cities.loc[(cities[\"City\"] == \"Stockholm\")][\"Cost of a bottle of water(City)\"].values[0], 1.72)\n",
    "assert_almost_equal(cities.loc[(cities[\"City\"] == \"Milan\")][\"Obesity levels(Country)\"].values[0], 0.199)\n",
    "assert_almost_equal(cities.loc[(cities[\"City\"] == \"New York\")][\"Cost of a monthly gym membership(City)\"].values[0], 64.66)"
   ]
  },
  {
   "cell_type": "markdown",
   "id": "d6adbab4-326a-4907-9f25-ae5feef2983f",
   "metadata": {},
   "source": [
    "### 1b (1 point)\n",
    "What is the mean of the column \"Obesity levels(Country)\"?"
   ]
  },
  {
   "cell_type": "code",
   "execution_count": null,
   "id": "6dbad3e6",
   "metadata": {
    "deletable": false,
    "nbgrader": {
     "cell_type": "code",
     "checksum": "915f7704137f59d658d59eaaef8a35c1",
     "grade": false,
     "grade_id": "cell-8c8767ce075ccffb",
     "locked": false,
     "schema_version": 3,
     "solution": true,
     "task": false
    }
   },
   "outputs": [],
   "source": [
    "# mean_obesity_level = ...\n",
    "\n",
    "# YOUR CODE HERE\n",
    "raise NotImplementedError()"
   ]
  },
  {
   "cell_type": "code",
   "execution_count": null,
   "id": "4e978bb4",
   "metadata": {
    "deletable": false,
    "editable": false,
    "nbgrader": {
     "cell_type": "code",
     "checksum": "8f8f58e83b291c76c5e159d0a8a7cc5d",
     "grade": true,
     "grade_id": "cell-8dae05d4d8a340bd",
     "locked": true,
     "points": 1,
     "schema_version": 3,
     "solution": false,
     "task": false
    }
   },
   "outputs": [],
   "source": []
  },
  {
   "cell_type": "markdown",
   "id": "e381295e",
   "metadata": {},
   "source": [
    "### 1c (1 point)\n",
    "Is the mean a good measure to summarize the values of \"Obesity levels(Country)\"?"
   ]
  },
  {
   "cell_type": "code",
   "execution_count": null,
   "id": "06394073-bad3-4b84-b246-ed8f4cdd3387",
   "metadata": {
    "deletable": false,
    "nbgrader": {
     "cell_type": "code",
     "checksum": "16dca5af51b88e89370c3a3196d4d50c",
     "grade": false,
     "grade_id": "cell-73833e6a3bef14f2",
     "locked": false,
     "schema_version": 3,
     "solution": true,
     "task": false
    }
   },
   "outputs": [],
   "source": [
    "# a visualization might help...\n",
    "\n",
    "# YOUR CODE HERE\n",
    "raise NotImplementedError()"
   ]
  },
  {
   "cell_type": "markdown",
   "id": "e84370af",
   "metadata": {
    "deletable": false,
    "nbgrader": {
     "cell_type": "markdown",
     "checksum": "0e380ff6a67e50abceb3932b42aa273b",
     "grade": true,
     "grade_id": "cell-af1b6bda9c368057",
     "locked": false,
     "points": 1,
     "schema_version": 3,
     "solution": true,
     "task": false
    }
   },
   "source": [
    "YOUR ANSWER HERE"
   ]
  },
  {
   "cell_type": "markdown",
   "id": "17ec9d09",
   "metadata": {},
   "source": [
    "### 1d (2 points)\n",
    "Please make a new column called \"Continent\" containing the continent of each city. <br>\n",
    "If a city is in multiple continents, choose one (it will make the following plots cleaner). <br>\n",
    "Use this list of continent names: Europe, Australia, America, Asia, Antarctica, Oceania.\n",
    "\n",
    "Hint: You can go two routes, find a different dataframe on the internet to join to this one (using the pandas function merge), or hand-code the information. Whichever is easier for you :)"
   ]
  },
  {
   "cell_type": "code",
   "execution_count": null,
   "id": "e6ef7ffb",
   "metadata": {
    "deletable": false,
    "nbgrader": {
     "cell_type": "code",
     "checksum": "ece54616e8ddbb3dcad84c8cadb4d268",
     "grade": false,
     "grade_id": "cell-36f40a02cef87b84",
     "locked": false,
     "schema_version": 3,
     "solution": true,
     "task": false
    }
   },
   "outputs": [],
   "source": [
    "# cities[\"Continent\"] = ...\n",
    "\n",
    "# YOUR CODE HERE\n",
    "raise NotImplementedError()"
   ]
  },
  {
   "cell_type": "code",
   "execution_count": null,
   "id": "6d550702",
   "metadata": {
    "deletable": false,
    "editable": false,
    "nbgrader": {
     "cell_type": "code",
     "checksum": "0b52e7435b6c92cb6d4e8fa6690c1de6",
     "grade": true,
     "grade_id": "cell-4623025f67354f71",
     "locked": true,
     "points": 1,
     "schema_version": 3,
     "solution": false,
     "task": false
    }
   },
   "outputs": [],
   "source": [
    "assert_equal(cities.loc[(cities[\"City\"] == \"Vienna\")][\"Continent\"].values[0], \"Europe\")\n",
    "assert_equal(cities.loc[(cities[\"City\"] == \"Sydney\")][\"Continent\"].values[0], \"Australia\")\n",
    "assert_equal(cities.loc[(cities[\"City\"] == \"Johannesburg\")][\"Continent\"].values[0], \"Africa\")\n",
    "assert_equal(cities.loc[(cities[\"City\"] == \"Sao Paulo\")][\"Continent\"].values[0], \"America\")\n",
    "assert_equal(cities.loc[(cities[\"City\"] == \"Shanghai\")][\"Continent\"].values[0], \"Asia\")"
   ]
  },
  {
   "cell_type": "markdown",
   "id": "e96421de",
   "metadata": {},
   "source": [
    "What does the column \"Continent\" have to do with question 1c? (Hint: This is pretty similar to the penguin flipper lengths from the lecture)"
   ]
  },
  {
   "cell_type": "code",
   "execution_count": null,
   "id": "e477a5de",
   "metadata": {
    "deletable": false,
    "nbgrader": {
     "cell_type": "code",
     "checksum": "1e2ab3d26e3aae8f21e6b50ee3cbce4a",
     "grade": false,
     "grade_id": "cell-2520395026cab69f",
     "locked": false,
     "schema_version": 3,
     "solution": true,
     "task": false
    }
   },
   "outputs": [],
   "source": [
    "# a visualization might help...\n",
    "\n",
    "# YOUR CODE HERE\n",
    "raise NotImplementedError()"
   ]
  },
  {
   "cell_type": "markdown",
   "id": "8d676c24",
   "metadata": {
    "deletable": false,
    "nbgrader": {
     "cell_type": "markdown",
     "checksum": "09fa471447e2444952daa7da5b49a668",
     "grade": true,
     "grade_id": "cell-1a46653c120dae60",
     "locked": false,
     "points": 1,
     "schema_version": 3,
     "solution": true,
     "task": false
    }
   },
   "source": [
    "YOUR ANSWER HERE"
   ]
  },
  {
   "cell_type": "markdown",
   "id": "822974fb",
   "metadata": {},
   "source": [
    "![](https://upload.wikimedia.org/wikipedia/commons/8/89/Melbourne_skyline_from_Williamstown.png)"
   ]
  },
  {
   "cell_type": "markdown",
   "id": "a547dab9-c874-4d8a-839e-d727ce176b33",
   "metadata": {},
   "source": [
    "## 2 (8 points)\n",
    "You have gotten the job as data visualization expert in Melbourne. 🎉 Congratulations! <br>\n",
    "Your first task is to make a stunning plot to convince everyone that Melbourne is the best city in the whole wide world! We want to print it on posters! Or at least in the national tourism brochure.\n",
    "\n",
    "* Make **one plot** using any and all (evil) principles of data visualization. If you need inspiration, look at the examples on the lecture slides or here: https://www.youtube.com/watch?v=E91bGT9BjYk or google \"misleading data visualization\".\n",
    "* If necessary, write (max) 3 sentences to explain your plot"
   ]
  },
  {
   "cell_type": "code",
   "execution_count": null,
   "id": "ad51ba30",
   "metadata": {
    "deletable": false,
    "nbgrader": {
     "cell_type": "code",
     "checksum": "15977f7ac5e0bf0c5565956ff8762081",
     "grade": true,
     "grade_id": "cell-16944c7107e45a9c",
     "locked": false,
     "points": 0,
     "schema_version": 3,
     "solution": true,
     "task": false
    }
   },
   "outputs": [],
   "source": [
    "# Put your plot here\n",
    "\n",
    "# YOUR CODE HERE\n",
    "raise NotImplementedError()"
   ]
  },
  {
   "cell_type": "markdown",
   "id": "72224736",
   "metadata": {
    "deletable": false,
    "editable": false,
    "nbgrader": {
     "cell_type": "markdown",
     "checksum": "845a1f272fa63313b22dd14b62fecb75",
     "grade": false,
     "grade_id": "cell-b1629163b05baa4b",
     "locked": true,
     "points": 0,
     "schema_version": 3,
     "solution": false,
     "task": true
    }
   },
   "source": [
    "Describe your plot here"
   ]
  },
  {
   "cell_type": "markdown",
   "id": "f661220a-4a02-4bc9-93fa-624d3df2df6c",
   "metadata": {},
   "source": [
    "## 3 (2 points)\n",
    "### 3a (2 points)\n",
    "Where did this data even come from? Find one instance where a data point in the cities dataframe is false. Write one sentence explaining why it is false and provide a source proving your claim."
   ]
  },
  {
   "cell_type": "markdown",
   "id": "da092d93",
   "metadata": {
    "deletable": false,
    "nbgrader": {
     "cell_type": "markdown",
     "checksum": "13532d4664f0c6d8c0dc89518ba95b7f",
     "grade": true,
     "grade_id": "cell-b9358a3f2d06e029",
     "locked": false,
     "points": 2,
     "schema_version": 3,
     "solution": true,
     "task": false
    }
   },
   "source": [
    "YOUR ANSWER HERE"
   ]
  }
 ],
 "metadata": {
  "kernelspec": {
   "display_name": "Python 3 (ipykernel)",
   "language": "python",
   "name": "python3"
  },
  "language_info": {
   "codemirror_mode": {
    "name": "ipython",
    "version": 3
   },
   "file_extension": ".py",
   "mimetype": "text/x-python",
   "name": "python",
   "nbconvert_exporter": "python",
   "pygments_lexer": "ipython3",
   "version": "3.8.12"
  }
 },
 "nbformat": 4,
 "nbformat_minor": 5
}
