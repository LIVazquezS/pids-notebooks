{
 "cells": [
  {
   "cell_type": "markdown",
   "metadata": {
    "deletable": false,
    "editable": false,
    "nbgrader": {
     "cell_type": "markdown",
     "checksum": "28d70e1784cade2bedfa24c54e4aff5a",
     "grade": false,
     "grade_id": "cell-525c2fd5f3e93d2b",
     "locked": true,
     "schema_version": 3,
     "solution": false,
     "task": false
    }
   },
   "source": [
    "# Exercise sheet 5\n",
    "**Hello everyone!**\n",
    "\n",
    "**Points: 17 (2 bonus)**\n",
    "\n",
    "Topics of this exercise sheet are:\n",
    "* Working with probability distributions\n",
    "\n",
    "Please let us know if you have questions or problems! <br>\n",
    "Contact us during the exercise session, on [ADAM](https://adam.unibas.ch/goto_adam_crs_1266890.html), [Piazza](https://piazza.com/class/kzy15kp8s5t6ku), or [via email](https://sada.dmi.unibas.ch/en/teaching/pids22).\n",
    "\n",
    "Please submit this exercise sheet on **ADAM**.\n",
    "Naming conventions:\n",
    "\n",
    "1. Create a folder with your unique identification (usually the first 6 letters of your last name and then 4 numbers). It should be same for all exercise sheet. If you changed, please use the one used to sheet 3.\n",
    "2. Create a folder inside the previous folder, with name \"exerciseX\" where X is the sheet number.\n",
    "3. Place the exercise sheet inside this folder. No dataset, no previous sheet, no remaining of this sheet.\n",
    "4. Complete the sheet. Only put code or text inside the blocks where \"# YOUR CODE HERE\" or \"YOUR ANSWER HERE\" is written. Everything else will be deleted during grading. Don't add new blocks.\n",
    "5. zip the folder with you name and submit it to the corresponding assignment. No renaming of the zip file either.\n",
    "\n",
    "Common mistakes:\n",
    "- Don't use capital letter for your identification name, or the exercise folder.\n",
    "- Don't put previous sheet or dataset on the submission folders. Just the sheet, ipynb format.\n",
    "\n",
    "\n",
    "\n",
    "**Handout date**: 2022/04/05 <br>\n",
    "**Submission date**: 2022/04/12 <br>\n",
    "**Discussion date**: 2022/04/17"
   ]
  },
  {
   "cell_type": "markdown",
   "metadata": {
    "deletable": false,
    "editable": false,
    "nbgrader": {
     "cell_type": "markdown",
     "checksum": "f08eba11b42f17679c4cf7776fc3d0ec",
     "grade": false,
     "grade_id": "cell-caf3886caaa9b4ac",
     "locked": true,
     "schema_version": 3,
     "solution": false,
     "task": false
    }
   },
   "source": [
    "## Introduction:\n",
    "In this exercise, you get familiar with the basic concepts of probability and statistics. We recommend you to read this article to ensure you know the basic concepts well:\n",
    "https://towardsdatascience.com/an-in-depth-crash-course-on-random-variables-a3905d03e322"
   ]
  },
  {
   "cell_type": "code",
   "execution_count": null,
   "metadata": {
    "deletable": false,
    "editable": false,
    "nbgrader": {
     "cell_type": "code",
     "checksum": "7507654ee472d9dacdf5abeb6957f4d2",
     "grade": false,
     "grade_id": "cell-41524afeb7ebe206",
     "locked": true,
     "schema_version": 3,
     "solution": false,
     "task": false
    }
   },
   "outputs": [],
   "source": [
    "import pandas as pd\n",
    "import seaborn as sns\n",
    "import matplotlib.pyplot as plt\n",
    "import numpy as np\n",
    "from scipy import stats\n",
    "from nose.tools import assert_is_instance, assert_equal, assert_almost_equal, assert_true"
   ]
  },
  {
   "cell_type": "markdown",
   "metadata": {
    "deletable": false,
    "editable": false,
    "nbgrader": {
     "cell_type": "markdown",
     "checksum": "e9f82b711c847a17ddb5342f43cc3660",
     "grade": false,
     "grade_id": "cell-53460d34058f3491",
     "locked": true,
     "schema_version": 3,
     "solution": false,
     "task": false
    }
   },
   "source": [
    "# 1 (6 points)\n",
    "## Binomial distribution:\n",
    "The binomial distribution with parameters n and p is a class of the discrete probability distributions of <b> the number of successes in a sequence of $n$ independent experiments, </b> each asking a yes–no question, and each with its own Boolean-valued outcome: success (with probability $p$) or failure (with probability $1 − p$). The probability of happening $x$ times success in $n$ trials is:\n",
    "$$\n",
    "    p(x) = \\binom{n}{x}p^x (1-p)^{n-x} \n",
    "$$"
   ]
  },
  {
   "cell_type": "code",
   "execution_count": null,
   "metadata": {
    "deletable": false,
    "editable": false,
    "nbgrader": {
     "cell_type": "code",
     "checksum": "2578bcf67f52b90da1c108558f2a4965",
     "grade": false,
     "grade_id": "cell-de32fce7c84d1792",
     "locked": true,
     "schema_version": 3,
     "solution": false,
     "task": false
    }
   },
   "outputs": [],
   "source": [
    "n = 20 # The total number of trials\n",
    "p = 0.5 # The probability of success in each trial\n",
    "X = stats.binom(n, p)\n",
    "# Please check this page for more information: \n",
    "# https://docs.scipy.org/doc/scipy-0.13.0/reference/generated/scipy.stats.binom.html#scipy.stats.binom"
   ]
  },
  {
   "cell_type": "markdown",
   "metadata": {
    "deletable": false,
    "editable": false,
    "nbgrader": {
     "cell_type": "markdown",
     "checksum": "dd25fad40c01ac6bb2f55c1a8cb18bc4",
     "grade": false,
     "grade_id": "cell-5d9cbb87ed2f5e87",
     "locked": true,
     "schema_version": 3,
     "solution": false,
     "task": false
    }
   },
   "source": [
    "### 1a (2 points)\n",
    "Generate 10000 random samples from the given binomial distribution and plot the histogram.\n",
    "\n",
    "Hint: Use X.rvs()"
   ]
  },
  {
   "cell_type": "code",
   "execution_count": null,
   "metadata": {
    "deletable": false,
    "nbgrader": {
     "cell_type": "code",
     "checksum": "ce596d7cdfaa4d0eb66b0c4c0b00e0ed",
     "grade": false,
     "grade_id": "cell-cda45808f0efe171",
     "locked": false,
     "schema_version": 3,
     "solution": true,
     "task": false
    }
   },
   "outputs": [],
   "source": [
    "n_samples=10000\n",
    "np.random.seed(0)\n",
    "# YOUR CODE HERE\n",
    "raise NotImplementedError()\n",
    "# x = "
   ]
  },
  {
   "cell_type": "code",
   "execution_count": null,
   "metadata": {
    "deletable": false,
    "editable": false,
    "nbgrader": {
     "cell_type": "code",
     "checksum": "ea440b6c92c45fdab738b51e1f6ab995",
     "grade": true,
     "grade_id": "cell-bf5d9fe64b7e6143",
     "locked": true,
     "points": 2,
     "schema_version": 3,
     "solution": false,
     "task": false
    }
   },
   "outputs": [],
   "source": [
    "print(x.mean())\n",
    "print(x.std())\n",
    "assert_equal(len(x), n_samples)\n",
    "assert_almost_equal(x.mean(), 9.968 , places=2)\n",
    "assert_almost_equal(x.std() , 2.249 , places=2)"
   ]
  },
  {
   "cell_type": "markdown",
   "metadata": {
    "deletable": false,
    "editable": false,
    "nbgrader": {
     "cell_type": "markdown",
     "checksum": "597a59dc2aab6efbf322719de69048f3",
     "grade": false,
     "grade_id": "cell-0682fdc8882d815c",
     "locked": true,
     "schema_version": 3,
     "solution": false,
     "task": false
    }
   },
   "source": [
    "### 1b (2 points)\n",
    "What are $\\text{P}(X = 8)$, $\\text{P}(X = 10)$ and $\\text{P}(X = 12)$?\n",
    "\n",
    "Hint: Use X.pmf()"
   ]
  },
  {
   "cell_type": "code",
   "execution_count": null,
   "metadata": {
    "deletable": false,
    "nbgrader": {
     "cell_type": "code",
     "checksum": "4b9966535817e39838f0dddc60a0899d",
     "grade": false,
     "grade_id": "cell-183fea12257ba84f",
     "locked": false,
     "schema_version": 3,
     "solution": true,
     "task": false
    }
   },
   "outputs": [],
   "source": [
    "# YOUR CODE HERE\n",
    "raise NotImplementedError()\n",
    "# p8 =\n",
    "# p10 =\n",
    "# p12 ="
   ]
  },
  {
   "cell_type": "code",
   "execution_count": null,
   "metadata": {
    "deletable": false,
    "editable": false,
    "nbgrader": {
     "cell_type": "code",
     "checksum": "2f71597cdcbc33703d8ffc21790d5762",
     "grade": true,
     "grade_id": "cell-b16bddc2f8788742",
     "locked": true,
     "points": 2,
     "schema_version": 3,
     "solution": false,
     "task": false
    }
   },
   "outputs": [],
   "source": [
    "print((p8 - p12)/p10)\n",
    "print((p10*p12)+p8)\n",
    "\n",
    "assert_almost_equal((p8 - p12)/p10, 0)\n",
    "assert_almost_equal((p10*p12)+p8, 0.141 , places=2)"
   ]
  },
  {
   "cell_type": "markdown",
   "metadata": {
    "deletable": false,
    "editable": false,
    "nbgrader": {
     "cell_type": "markdown",
     "checksum": "0000eb62a190e6061ccfeac1799099f8",
     "grade": false,
     "grade_id": "cell-3b593abf923267bc",
     "locked": true,
     "schema_version": 3,
     "solution": false,
     "task": false
    }
   },
   "source": [
    "Which point has the highest probability? Why?"
   ]
  },
  {
   "cell_type": "markdown",
   "metadata": {
    "deletable": false,
    "nbgrader": {
     "cell_type": "markdown",
     "checksum": "bdc9275bdc19fb953cb5972c99578d79",
     "grade": true,
     "grade_id": "cell-b81018d863cac204",
     "locked": false,
     "points": 0,
     "schema_version": 3,
     "solution": true,
     "task": false
    }
   },
   "source": [
    "YOUR ANSWER HERE"
   ]
  },
  {
   "cell_type": "markdown",
   "metadata": {
    "deletable": false,
    "editable": false,
    "nbgrader": {
     "cell_type": "markdown",
     "checksum": "5419b629926dc83bc2f32b257d88eda4",
     "grade": false,
     "grade_id": "cell-a275248031d15662",
     "locked": true,
     "schema_version": 3,
     "solution": false,
     "task": false
    }
   },
   "source": [
    "### 1c (1 points bonus)\n",
    "What are $\\text{P}(X \\leq 8)$, $\\text{P}(X \\leq 10)$, $\\text{P}(X \\leq 12)$ and $\\text{P}(X \\leq 20)$?\n",
    "\n",
    "Hint: Use X.cdf()"
   ]
  },
  {
   "cell_type": "code",
   "execution_count": null,
   "metadata": {
    "deletable": false,
    "nbgrader": {
     "cell_type": "code",
     "checksum": "d20dd7465d2da57a49d1b3c6df2ab405",
     "grade": false,
     "grade_id": "cell-3267fe45f8b26292",
     "locked": false,
     "schema_version": 3,
     "solution": true,
     "task": false
    }
   },
   "outputs": [],
   "source": [
    "# YOUR CODE HERE\n",
    "raise NotImplementedError()\n",
    "# p_le8 = \n",
    "# p_le10 = \n",
    "# p_le12 = \n",
    "# p_le20 = \n",
    "print('P(X<=8)={:.4f}\\nP(X<=10)={:.4f}\\nP(X<=12)={:.4f}\\nP(X<=20)={:.4f}'.format(p_le8, p_le10, p_le12,p_le20))\n"
   ]
  },
  {
   "cell_type": "code",
   "execution_count": null,
   "metadata": {
    "deletable": false,
    "editable": false,
    "nbgrader": {
     "cell_type": "code",
     "checksum": "3a5352640d58fa30e66d2bcbe7ba8973",
     "grade": true,
     "grade_id": "cell-0ed57cd19a0323c4",
     "locked": true,
     "points": 1,
     "schema_version": 3,
     "solution": false,
     "task": false
    }
   },
   "outputs": [],
   "source": [
    "print(p_le10 - p_le8)\n",
    "print((p_le12 - p_le20)/p_le8)\n",
    "\n",
    "assert_almost_equal(p_le10 - p_le8, 0.336 , places=2)\n",
    "assert_almost_equal((p_le12 - p_le20)/p_le8 , -0.522 , places=2)"
   ]
  },
  {
   "cell_type": "markdown",
   "metadata": {
    "deletable": false,
    "editable": false,
    "nbgrader": {
     "cell_type": "markdown",
     "checksum": "caeb3e013da8d426d9ddf822a5e49d31",
     "grade": false,
     "grade_id": "cell-74cc610fba2ba6ac",
     "locked": true,
     "schema_version": 3,
     "solution": false,
     "task": false
    }
   },
   "source": [
    "Do you see an increasing trend? Is $\\text{P}(X \\leq 20)$ the highest value and equals 1? Why? "
   ]
  },
  {
   "cell_type": "markdown",
   "metadata": {
    "deletable": false,
    "nbgrader": {
     "cell_type": "markdown",
     "checksum": "e34b95954d11b79ccbf4226ceb3fd905",
     "grade": true,
     "grade_id": "cell-7cd7e3ce262842e4",
     "locked": false,
     "points": 0,
     "schema_version": 3,
     "solution": true,
     "task": false
    }
   },
   "source": [
    "YOUR ANSWER HERE"
   ]
  },
  {
   "cell_type": "markdown",
   "metadata": {
    "deletable": false,
    "editable": false,
    "nbgrader": {
     "cell_type": "markdown",
     "checksum": "5d296bc2220d3d51c5a17b75c8c372d1",
     "grade": false,
     "grade_id": "cell-e9fb4c0c972ded19",
     "locked": true,
     "schema_version": 3,
     "solution": false,
     "task": false
    }
   },
   "source": [
    "### 1d (2 points)\n",
    "What are the mean, standard deviation and median of the generated samples?\n",
    "\n",
    "Hint: You can use numpy!"
   ]
  },
  {
   "cell_type": "code",
   "execution_count": null,
   "metadata": {
    "deletable": false,
    "nbgrader": {
     "cell_type": "code",
     "checksum": "9a8b4072b8e6f1000a7c6c6f3e02b147",
     "grade": false,
     "grade_id": "cell-0dface407979af48",
     "locked": false,
     "schema_version": 3,
     "solution": true,
     "task": false
    }
   },
   "outputs": [],
   "source": [
    "# YOUR CODE HERE\n",
    "raise NotImplementedError()\n",
    "\n",
    "print((mean - std)/median)\n",
    "print((mean ** std)+ median)"
   ]
  },
  {
   "cell_type": "code",
   "execution_count": null,
   "metadata": {
    "deletable": false,
    "editable": false,
    "nbgrader": {
     "cell_type": "code",
     "checksum": "7477842e06f746b2418ba9f8a7c50bb6",
     "grade": true,
     "grade_id": "cell-554077d683ce6e56",
     "locked": true,
     "points": 2,
     "schema_version": 3,
     "solution": false,
     "task": false
    }
   },
   "outputs": [],
   "source": [
    "assert_almost_equal((mean - std)/median, 0.771 , places=2)\n",
    "assert_almost_equal((mean ** std)+ median, 186.349 , places=2)"
   ]
  },
  {
   "cell_type": "markdown",
   "metadata": {
    "deletable": false,
    "editable": false,
    "nbgrader": {
     "cell_type": "markdown",
     "checksum": "6901f72c6dc942d52a5f15cd4d984e0a",
     "grade": false,
     "grade_id": "cell-2496476e6c1cd1ac",
     "locked": true,
     "schema_version": 3,
     "solution": false,
     "task": false
    }
   },
   "source": [
    "Is the mean close to $n \\times p$? Why should we expect this?"
   ]
  },
  {
   "cell_type": "markdown",
   "metadata": {
    "deletable": false,
    "nbgrader": {
     "cell_type": "markdown",
     "checksum": "11e807923ad85330c1acb26c9bf6c1c9",
     "grade": true,
     "grade_id": "cell-c213f4d54ab18ec1",
     "locked": false,
     "points": 0,
     "schema_version": 3,
     "solution": true,
     "task": false
    }
   },
   "source": [
    "YOUR ANSWER HERE"
   ]
  },
  {
   "cell_type": "markdown",
   "metadata": {
    "deletable": false,
    "editable": false,
    "nbgrader": {
     "cell_type": "markdown",
     "checksum": "fc2d5a49c7ed4f0278f00b2f5b6f74d4",
     "grade": false,
     "grade_id": "cell-a551a08513a0e794",
     "locked": true,
     "schema_version": 3,
     "solution": false,
     "task": false
    }
   },
   "source": [
    "# 2 (6 points)\n",
    "## Multimodal distributions:\n",
    "Now we consider samples from two binomial distributions with different p values."
   ]
  },
  {
   "cell_type": "code",
   "execution_count": null,
   "metadata": {
    "deletable": false,
    "editable": false,
    "nbgrader": {
     "cell_type": "code",
     "checksum": "024fd11905e1baf70305342c592b60e7",
     "grade": false,
     "grade_id": "cell-8258441e65b72304",
     "locked": true,
     "schema_version": 3,
     "solution": false,
     "task": false
    }
   },
   "outputs": [],
   "source": [
    "n = 20\n",
    "p1 = 0.2\n",
    "p2 = 0.8\n",
    "X1 = stats.binom(n, p1)\n",
    "X2 = stats.binom(n, p2)"
   ]
  },
  {
   "cell_type": "markdown",
   "metadata": {
    "deletable": false,
    "editable": false,
    "nbgrader": {
     "cell_type": "markdown",
     "checksum": "ac30514271988347c649e1ed77aecf63",
     "grade": false,
     "grade_id": "cell-ca2161cf1aab9b3c",
     "locked": true,
     "schema_version": 3,
     "solution": false,
     "task": false
    }
   },
   "source": [
    "### 2a (2 points)\n",
    "\n",
    "Generate 5000 random samples from each of these two binomial distributions and concatenate the samples to make a unified vector. Plot the histogram of the concatenated samples."
   ]
  },
  {
   "cell_type": "code",
   "execution_count": null,
   "metadata": {
    "deletable": false,
    "nbgrader": {
     "cell_type": "code",
     "checksum": "19d4a5426e96208817c4cb8a3eeb94d6",
     "grade": false,
     "grade_id": "cell-eb08c2c0ae675c5a",
     "locked": false,
     "schema_version": 3,
     "solution": true,
     "task": false
    }
   },
   "outputs": [],
   "source": [
    "n_samples=5000\n",
    "np.random.seed(0)\n",
    "\n",
    "# YOUR CODE HERE\n",
    "raise NotImplementedError()\n",
    "# x1 = \n",
    "# x2 = \n",
    "# x = "
   ]
  },
  {
   "cell_type": "code",
   "execution_count": null,
   "metadata": {
    "deletable": false,
    "editable": false,
    "nbgrader": {
     "cell_type": "code",
     "checksum": "576088753b65264edf1431c4c2c22e51",
     "grade": true,
     "grade_id": "cell-80410be6ed2be347",
     "locked": true,
     "points": 2,
     "schema_version": 3,
     "solution": false,
     "task": false
    }
   },
   "outputs": [],
   "source": [
    "print((x1.mean() + x2.mean())/x.mean())\n",
    "print((x1.mean() - x2.mean())*x.mean())\n",
    "\n",
    "assert_almost_equal((x1.mean() + x2.mean())/x.mean(), 2.000 , places=2)\n",
    "assert_almost_equal((x1.mean() - x2.mean())*x.mean(), -120.670 , places=2)"
   ]
  },
  {
   "cell_type": "markdown",
   "metadata": {
    "deletable": false,
    "editable": false,
    "nbgrader": {
     "cell_type": "markdown",
     "checksum": "87715936ffa50dd3667d4f24a2753149",
     "grade": false,
     "grade_id": "cell-e701a40d657e8ead",
     "locked": true,
     "schema_version": 3,
     "solution": false,
     "task": false
    }
   },
   "source": [
    "### 2b (4 points)\n",
    "\n",
    "Calculate the mean, median and the first two modes of the concatenated samples.\n",
    "\n",
    "Hint: You can use np.unique and np.argsort to find the first and the second modes"
   ]
  },
  {
   "cell_type": "code",
   "execution_count": null,
   "metadata": {
    "deletable": false,
    "nbgrader": {
     "cell_type": "code",
     "checksum": "0985460f4dbbc9cee79ba43097aa972f",
     "grade": false,
     "grade_id": "cell-fd06b5e4a5b3d882",
     "locked": false,
     "schema_version": 3,
     "solution": true,
     "task": false
    }
   },
   "outputs": [],
   "source": [
    "# YOUR CODE HERE\n",
    "raise NotImplementedError()\n",
    "# mean = \n",
    "# median = \n",
    "\n",
    "# mode1 = \n",
    "# mode2 = \n",
    "\n",
    "print('Mean: {:.2f} \\nMedian: {:.2f} \\nFirst mode: {:.2f}\\nSecond mode: {:.2f}'.format(mean, median, mode1, mode2))"
   ]
  },
  {
   "cell_type": "code",
   "execution_count": null,
   "metadata": {
    "deletable": false,
    "editable": false,
    "nbgrader": {
     "cell_type": "code",
     "checksum": "ba553d71eadc02519bdc89d8756d0f28",
     "grade": true,
     "grade_id": "cell-f03ecd27589d8c8b",
     "locked": true,
     "points": 4,
     "schema_version": 3,
     "solution": false,
     "task": false
    }
   },
   "outputs": [],
   "source": [
    "print((mean - median)/mode1)\n",
    "print((mode1 - mode2)/ mean)\n",
    "\n",
    "assert_almost_equal((mean - median)/mode1, 0.000 , places=2)\n",
    "assert_almost_equal((mode1 - mode2)/ mean, 1.198 , places=2)"
   ]
  },
  {
   "cell_type": "markdown",
   "metadata": {
    "deletable": false,
    "editable": false,
    "nbgrader": {
     "cell_type": "markdown",
     "checksum": "2963b345134f53cb0601923f714cc5c9",
     "grade": false,
     "grade_id": "cell-997c872f116221bc",
     "locked": true,
     "schema_version": 3,
     "solution": false,
     "task": false
    }
   },
   "source": [
    "Which of these is a better represetation of this type of data? Why?"
   ]
  },
  {
   "cell_type": "markdown",
   "metadata": {
    "deletable": false,
    "nbgrader": {
     "cell_type": "markdown",
     "checksum": "948f09df0805add611519ce4df2626ee",
     "grade": true,
     "grade_id": "cell-f441612acd70e110",
     "locked": false,
     "points": 0,
     "schema_version": 3,
     "solution": true,
     "task": false
    }
   },
   "source": [
    "YOUR ANSWER HERE"
   ]
  },
  {
   "cell_type": "markdown",
   "metadata": {
    "deletable": false,
    "editable": false,
    "nbgrader": {
     "cell_type": "markdown",
     "checksum": "72eff09db6b692f830c3baf3b2e8cd8c",
     "grade": false,
     "grade_id": "cell-0888357cf1c76be2",
     "locked": true,
     "schema_version": 3,
     "solution": false,
     "task": false
    }
   },
   "source": [
    "# 3 (3 points)\n",
    "\n",
    "## Normal distribution:\n",
    "Normal (Gaussian) distribution is a class of continuous probability distributions with mean $\\mu$ and standard deviation $\\sigma$:\n",
    "$$\n",
    "    p(x) = \\frac{1}{\\sqrt{2\\pi\\sigma^2}} e^{-\\frac{(x - \\mu)^2}{2\\sigma^2}}\n",
    "$$"
   ]
  },
  {
   "cell_type": "code",
   "execution_count": null,
   "metadata": {
    "deletable": false,
    "editable": false,
    "nbgrader": {
     "cell_type": "code",
     "checksum": "6446d4f9173578efaaa02966b184bf4e",
     "grade": false,
     "grade_id": "cell-95928455c3b78ead",
     "locked": true,
     "schema_version": 3,
     "solution": false,
     "task": false
    }
   },
   "outputs": [],
   "source": [
    "mu = 3.0\n",
    "sigma = 2.0\n",
    "X = stats.norm(loc = mu , scale = sigma)\n",
    "\n",
    "# Please check this page for more information: \n",
    "# https://docs.scipy.org/doc/scipy/reference/generated/scipy.stats.norm.html"
   ]
  },
  {
   "cell_type": "markdown",
   "metadata": {
    "deletable": false,
    "editable": false,
    "nbgrader": {
     "cell_type": "markdown",
     "checksum": "4de9e0f5e2478577d19f2f9e6548b1fb",
     "grade": false,
     "grade_id": "cell-bb43ab494b00074a",
     "locked": true,
     "schema_version": 3,
     "solution": false,
     "task": false
    }
   },
   "source": [
    "### 3a (1 points)\n",
    "\n",
    "Generate 10000 random samples from the the given normal distribution and plot the histogram."
   ]
  },
  {
   "cell_type": "code",
   "execution_count": null,
   "metadata": {
    "deletable": false,
    "nbgrader": {
     "cell_type": "code",
     "checksum": "a7b3955bc4d5ce1295dd64c620eed004",
     "grade": false,
     "grade_id": "cell-5c2f4c1e4bcf3221",
     "locked": false,
     "schema_version": 3,
     "solution": true,
     "task": false
    }
   },
   "outputs": [],
   "source": [
    "n_samples=10000\n",
    "np.random.seed(0)\n",
    "\n",
    "# YOUR CODE HERE\n",
    "raise NotImplementedError()\n",
    "# x = "
   ]
  },
  {
   "cell_type": "code",
   "execution_count": null,
   "metadata": {
    "deletable": false,
    "editable": false,
    "nbgrader": {
     "cell_type": "code",
     "checksum": "2faa2d632fd90614a8301b6c3d088f45",
     "grade": true,
     "grade_id": "cell-9e8e1c6162c85b13",
     "locked": true,
     "points": 1,
     "schema_version": 3,
     "solution": false,
     "task": false
    }
   },
   "outputs": [],
   "source": [
    "print(x.mean())\n",
    "print(x.std())\n",
    "\n",
    "assert_equal(len(x), n_samples)\n",
    "assert_almost_equal(x.mean(), 2.963 , places=2)\n",
    "assert_almost_equal(x.std() , 1.975 , places=2)"
   ]
  },
  {
   "cell_type": "markdown",
   "metadata": {
    "deletable": false,
    "editable": false,
    "nbgrader": {
     "cell_type": "markdown",
     "checksum": "1e66b6b1acb0dc458f0572f6d50e56e8",
     "grade": false,
     "grade_id": "cell-992a617c489aeca1",
     "locked": true,
     "schema_version": 3,
     "solution": false,
     "task": false
    }
   },
   "source": [
    "### 3b (1 points)\n",
    "\n",
    "What are $\\text{P}(X = 2)$, $\\text{P}(X = 3)$ and $\\text{P}(X = 4)$?"
   ]
  },
  {
   "cell_type": "code",
   "execution_count": null,
   "metadata": {
    "deletable": false,
    "nbgrader": {
     "cell_type": "code",
     "checksum": "1de7bbf3a9b58ebf7018ea6dd925dbc4",
     "grade": false,
     "grade_id": "cell-3f38274cf814ddd3",
     "locked": false,
     "schema_version": 3,
     "solution": true,
     "task": false
    }
   },
   "outputs": [],
   "source": [
    "# YOUR CODE HERE\n",
    "raise NotImplementedError()\n",
    "# p2 = \n",
    "# p3 = \n",
    "# p4 = \n",
    "print('P(X=2)={:.4f}|P(X=3)={:.4f}|P(X=4)={:.4f}'.format(p2, p3, p4))"
   ]
  },
  {
   "cell_type": "code",
   "execution_count": null,
   "metadata": {
    "deletable": false,
    "editable": false,
    "nbgrader": {
     "cell_type": "code",
     "checksum": "6af143f2907d7007691248c2cb039ddf",
     "grade": true,
     "grade_id": "cell-5c7c63d65fc8333e",
     "locked": true,
     "points": 1,
     "schema_version": 3,
     "solution": false,
     "task": false
    }
   },
   "outputs": [],
   "source": [
    "assert_equal((p2 - p3), 0)\n",
    "assert_equal((p2*p3)+p4, 0)"
   ]
  },
  {
   "cell_type": "markdown",
   "metadata": {
    "deletable": false,
    "editable": false,
    "nbgrader": {
     "cell_type": "markdown",
     "checksum": "993826f8fe8227b06b08d6d1695d8f48",
     "grade": false,
     "grade_id": "cell-25751026dd761f86",
     "locked": true,
     "schema_version": 3,
     "solution": false,
     "task": false
    }
   },
   "source": [
    "### 3c (1 points bonus)\n",
    "\n",
    "What are $\\text{P}(X \\leq 2)$, $\\text{P}(2 < X \\leq 3)$ and $\\text{P}(X \\geq 4)$?"
   ]
  },
  {
   "cell_type": "code",
   "execution_count": null,
   "metadata": {
    "deletable": false,
    "nbgrader": {
     "cell_type": "code",
     "checksum": "7c966dee4901bbe44b8f5945c9bd824d",
     "grade": false,
     "grade_id": "cell-464078c0201e8ad8",
     "locked": false,
     "schema_version": 3,
     "solution": true,
     "task": false
    }
   },
   "outputs": [],
   "source": [
    "# YOUR CODE HERE\n",
    "raise NotImplementedError()\n",
    "# p_le2 = \n",
    "# p_g2_le3 = \n",
    "# p_ge4 = \n",
    "\n",
    "print('P(X<=2)={:.4f}\\nP(2<X<=3)={:.4f}\\nP(X>=4)={:.4f}'.format(p_le2, p_g2_le3, p_ge4))"
   ]
  },
  {
   "cell_type": "code",
   "execution_count": null,
   "metadata": {
    "deletable": false,
    "editable": false,
    "nbgrader": {
     "cell_type": "code",
     "checksum": "91b38d72eba00c445fdfadb65b26494c",
     "grade": true,
     "grade_id": "cell-8d24f229bf16b73e",
     "locked": true,
     "points": 1,
     "schema_version": 3,
     "solution": false,
     "task": false
    }
   },
   "outputs": [],
   "source": [
    "print(p_le2 - p_ge4)\n",
    "print((p_g2_le3 - p_le2)/p_ge4)\n",
    "\n",
    "assert_equal(p_le2 - p_ge4, 0)\n",
    "assert_almost_equal((p_g2_le3 - p_le2)/p_ge4 , -0.379 , places=2)"
   ]
  },
  {
   "cell_type": "markdown",
   "metadata": {
    "deletable": false,
    "editable": false,
    "nbgrader": {
     "cell_type": "markdown",
     "checksum": "f182453c1fd82116ffce1fcb1e0cbf60",
     "grade": false,
     "grade_id": "cell-685ee0f278765e5a",
     "locked": true,
     "schema_version": 3,
     "solution": false,
     "task": false
    }
   },
   "source": [
    "Are $\\text{P}(X \\leq 2)$ and $\\text{P}(X \\geq 4)$ equal? Why?"
   ]
  },
  {
   "cell_type": "markdown",
   "metadata": {
    "deletable": false,
    "nbgrader": {
     "cell_type": "markdown",
     "checksum": "e62f6cc2c21e1030c2bc8c2d3c0eecb9",
     "grade": true,
     "grade_id": "cell-dda20287379f7a87",
     "locked": false,
     "points": 0,
     "schema_version": 3,
     "solution": true,
     "task": false
    }
   },
   "source": [
    "YOUR ANSWER HERE"
   ]
  },
  {
   "cell_type": "markdown",
   "metadata": {
    "deletable": false,
    "editable": false,
    "nbgrader": {
     "cell_type": "markdown",
     "checksum": "0654a82862db2b7ca8c60bd4e0ff8433",
     "grade": false,
     "grade_id": "cell-d38fc706a1ac8560",
     "locked": true,
     "schema_version": 3,
     "solution": false,
     "task": false
    }
   },
   "source": [
    "### 3d (1 points)\n",
    "\n",
    "What are the mean, standard deviation, and median of the generated samples?"
   ]
  },
  {
   "cell_type": "code",
   "execution_count": null,
   "metadata": {
    "deletable": false,
    "nbgrader": {
     "cell_type": "code",
     "checksum": "dbc824c86f78ae78a7bf56c5122f72de",
     "grade": false,
     "grade_id": "cell-67e48526cb3d882c",
     "locked": false,
     "schema_version": 3,
     "solution": true,
     "task": false
    }
   },
   "outputs": [],
   "source": [
    "# YOUR CODE HERE\n",
    "raise NotImplementedError()\n",
    "# mean = \n",
    "# std =\n",
    "# median = \n",
    "print('Mean={:.4f}|Std={:.4f}|Median={:.4f}'.format(mean, std, median))"
   ]
  },
  {
   "cell_type": "code",
   "execution_count": null,
   "metadata": {
    "deletable": false,
    "editable": false,
    "nbgrader": {
     "cell_type": "code",
     "checksum": "044f624cd4912e62bc4c58e0e2cac4d7",
     "grade": true,
     "grade_id": "cell-424c1572d1adec05",
     "locked": true,
     "points": 1,
     "schema_version": 3,
     "solution": false,
     "task": false
    }
   },
   "outputs": [],
   "source": [
    "print((mean - std)/median)\n",
    "print((mean ** std)+ median)\n",
    "\n",
    "assert_almost_equal((mean - std)/median, 0.335 , places=2)\n",
    "assert_almost_equal((mean ** std)+ median, 11.491 , places=2)"
   ]
  },
  {
   "cell_type": "markdown",
   "metadata": {
    "deletable": false,
    "editable": false,
    "nbgrader": {
     "cell_type": "markdown",
     "checksum": "6e4bab0ada0cd21401670905d29d7f1f",
     "grade": false,
     "grade_id": "cell-59896756a5a01306",
     "locked": true,
     "schema_version": 3,
     "solution": false,
     "task": false
    }
   },
   "source": [
    "Are the mean and std close to the $\\mu$ and $\\sigma$? How about the median? Why?"
   ]
  },
  {
   "cell_type": "markdown",
   "metadata": {
    "deletable": false,
    "nbgrader": {
     "cell_type": "markdown",
     "checksum": "d2a7ad2161b1ef6c9e5436a96b1faaf8",
     "grade": true,
     "grade_id": "cell-2afc01e0b24fcdd9",
     "locked": false,
     "points": 0,
     "schema_version": 3,
     "solution": true,
     "task": false
    }
   },
   "source": [
    "YOUR ANSWER HERE"
   ]
  }
 ],
 "metadata": {
  "kernelspec": {
   "display_name": "Python 3",
   "language": "python",
   "name": "python3"
  },
  "language_info": {
   "codemirror_mode": {
    "name": "ipython",
    "version": 3
   },
   "file_extension": ".py",
   "mimetype": "text/x-python",
   "name": "python",
   "nbconvert_exporter": "python",
   "pygments_lexer": "ipython3",
   "version": "3.8.3"
  }
 },
 "nbformat": 4,
 "nbformat_minor": 5
}
